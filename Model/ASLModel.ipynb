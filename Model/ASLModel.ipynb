{
 "cells": [
  {
   "cell_type": "markdown",
   "id": "48e0d4027712622d",
   "metadata": {},
   "source": [
    "Imports"
   ]
  },
  {
   "cell_type": "code",
   "id": "initial_id",
   "metadata": {
    "ExecuteTime": {
     "end_time": "2025-03-05T02:05:50.157917Z",
     "start_time": "2025-03-05T02:05:50.155259Z"
    }
   },
   "source": [
    "import numpy as np\n",
    "import os\n",
    "import cv2\n",
    "import matplotlib.pyplot as plt\n",
    "from sklearn.model_selection import train_test_split"
   ],
   "outputs": [],
   "execution_count": 48
  },
  {
   "cell_type": "code",
   "id": "be0ea784f803fef7",
   "metadata": {
    "ExecuteTime": {
     "end_time": "2025-03-05T02:05:50.490108Z",
     "start_time": "2025-03-05T02:05:50.487533Z"
    }
   },
   "source": [
    "from Model.Network import Network\n",
    "from Layers.MaxPooling import MaxPooling\n",
    "from Layers.FullyConnected import FullyConnected\n",
    "from Layers.Convolution import Convolution\n",
    "from Loss.CrossEntropyLossFunction import CrossEntropyLossFunction\n",
    "from Activation.Softmax import Softmax\n",
    "from Layers.Flatten import Flatten\n",
    "from Activation.ReLU import ReLU"
   ],
   "outputs": [],
   "execution_count": 49
  },
  {
   "cell_type": "markdown",
   "id": "eaaf6dd5e662fcb4",
   "metadata": {},
   "source": [
    "Preprocess Images"
   ]
  },
  {
   "metadata": {
    "ExecuteTime": {
     "end_time": "2025-03-05T02:51:19.510765Z",
     "start_time": "2025-03-05T02:51:19.508255Z"
    }
   },
   "cell_type": "code",
   "source": "image_shape = (28, 28)",
   "id": "608c4477bb7d8be",
   "outputs": [],
   "execution_count": 92
  },
  {
   "cell_type": "markdown",
   "id": "e5f039b86c93814b",
   "metadata": {},
   "source": [
    "Extract Data"
   ]
  },
  {
   "cell_type": "code",
   "id": "87f3b5623be1a563",
   "metadata": {
    "ExecuteTime": {
     "end_time": "2025-03-05T02:51:23.395184Z",
     "start_time": "2025-03-05T02:51:23.392119Z"
    }
   },
   "source": [
    "data_path = '/Users/aaryanpatel/Documents/ComputerScience/CSC590MachineLearning/ASL-CNN/asl_dataset'\n",
    "\n",
    "# Sort the folders in the dataset in alphabetical order\n",
    "classes = sorted(os.listdir(data_path))\n",
    "\n",
    "# Create dictionary mapping classes to indexes\n",
    "class_index_dict = {}\n",
    "for index, clas in enumerate(classes):\n",
    "    class_index_dict[clas] = index"
   ],
   "outputs": [],
   "execution_count": 93
  },
  {
   "cell_type": "code",
   "id": "1fe6916bb8f19b6e",
   "metadata": {
    "ExecuteTime": {
     "end_time": "2025-03-05T02:51:24.660206Z",
     "start_time": "2025-03-05T02:51:23.774931Z"
    }
   },
   "source": [
    "images = []\n",
    "labels = []\n",
    "\n",
    "# Extract the images and labels (using the created dictionary) of each subdirectory in the dataset\n",
    "for folder in classes:\n",
    "    folder_dir = os.path.join(data_path, folder)\n",
    "\n",
    "    for image in os.listdir(folder_dir):\n",
    "        img_path = os.path.join(folder_dir, image)\n",
    "\n",
    "        # Read, resize, and normalize the image\n",
    "        image = cv2.imread(img_path, cv2.IMREAD_GRAYSCALE)\n",
    "        image = cv2.resize(image, image_shape)\n",
    "        image = image / 255.0\n",
    "\n",
    "        images.append(image)\n",
    "        labels.append(class_index_dict[folder])"
   ],
   "outputs": [],
   "execution_count": 94
  },
  {
   "cell_type": "markdown",
   "id": "16ce4530d3165e09",
   "metadata": {},
   "source": [
    "Preprocess the Data"
   ]
  },
  {
   "cell_type": "code",
   "id": "d0c66ae7b4df5e5f",
   "metadata": {
    "ExecuteTime": {
     "end_time": "2025-03-05T02:51:24.669648Z",
     "start_time": "2025-03-05T02:51:24.661035Z"
    }
   },
   "source": [
    "# Reshape the images to create the x_data\n",
    "\n",
    "x_data = np.array(images).reshape(-1, 1, image_shape[0], image_shape[1])"
   ],
   "outputs": [],
   "execution_count": 95
  },
  {
   "cell_type": "code",
   "id": "2da25a11f4869769",
   "metadata": {
    "ExecuteTime": {
     "end_time": "2025-03-05T02:51:24.975923Z",
     "start_time": "2025-03-05T02:51:24.971718Z"
    }
   },
   "source": [
    "# One-hot-encode the labels to create the y_data\n",
    "\n",
    "y_data = np.zeros((len(labels), len(classes)))\n",
    "for index, label in enumerate(labels):\n",
    "    y_data[index, label] = 1"
   ],
   "outputs": [],
   "execution_count": 96
  },
  {
   "cell_type": "code",
   "id": "16e1252605baad73",
   "metadata": {
    "ExecuteTime": {
     "end_time": "2025-03-05T02:51:25.477512Z",
     "start_time": "2025-03-05T02:51:25.461098Z"
    }
   },
   "source": [
    "# Split the data in training and testing sets\n",
    "\n",
    "x_train, x_test, y_train, y_test = train_test_split(x_data, y_data, test_size=0.2)"
   ],
   "outputs": [],
   "execution_count": 97
  },
  {
   "cell_type": "markdown",
   "id": "d25359b71ada240d",
   "metadata": {},
   "source": "Create and Train the Model"
  },
  {
   "cell_type": "code",
   "id": "92a5827046242b83",
   "metadata": {
    "ExecuteTime": {
     "end_time": "2025-03-05T03:17:28.613096Z",
     "start_time": "2025-03-05T03:17:28.581173Z"
    }
   },
   "source": [
    "# Define the loss function and network layers\n",
    "\n",
    "loss_function = CrossEntropyLossFunction()\n",
    "\n",
    "network_layers_28 = [\n",
    "    Convolution(input_shape=(1, 28, 28), output_depth=16, kernel_size=3),\n",
    "    ReLU(),\n",
    "    MaxPooling(pool_size=2, stride=2),\n",
    "\n",
    "    Convolution(input_shape=(16, 13, 13), output_depth=32, kernel_size=3),\n",
    "    ReLU(),\n",
    "    MaxPooling(pool_size=2, stride=2),\n",
    "\n",
    "    Flatten(),\n",
    "\n",
    "    FullyConnected(input_size=32*5*5, output_size=128),\n",
    "    ReLU(),\n",
    "\n",
    "    FullyConnected(input_size=128, output_size=y_data.shape[1]),\n",
    "\n",
    "    Softmax()\n",
    "]\n",
    "\n",
    "network_layers_64 = [\n",
    "    # Input (Image Shape): 1 (Grayscale Channel) * 64 * 64. Convolution using a kernel of size 3 to create an output with depth 16. Output: 16 * 62 * 62.\n",
    "    Convolution(input_shape=(1, 64, 64), output_depth=16, kernel_size=3),\n",
    "    ReLU(),\n",
    "    # Max Pooling will divide shape by the stride. Output of Max Pooling: 16 * 31 * 31.\n",
    "    MaxPooling(pool_size=2, stride=2),\n",
    "    \n",
    "    # Input: 16 * 31 * 31. Often, each Convolution Layer doubles the output_depth. Output: 32 * 29 * 29\n",
    "    Convolution(input_shape=(16, 31, 31), output_depth=32, kernel_size=3),\n",
    "    ReLU(),\n",
    "    # Output: 32 * 14 * 14.\n",
    "    MaxPooling(pool_size=2, stride=2),\n",
    "\n",
    "    # Input: 32 * 14 * 14. Output: 64 * 12 * 12.\n",
    "    Convolution(input_shape=(32, 14, 14), output_depth=64, kernel_size=3),\n",
    "    ReLU(),\n",
    "    # Output: 64 * 6 * 6.\n",
    "    MaxPooling(pool_size=2, stride=2),\n",
    "\n",
    "    # Flattening multidimensional array to 1D. Input: 64 * 6 * 6.\n",
    "    Flatten(),\n",
    "    \n",
    "    FullyConnected(input_size=64 * 6 * 6, output_size=256),\n",
    "    ReLU(),\n",
    "    \n",
    "    # Input: 256. Output: 36 (Number of total labels).\n",
    "    FullyConnected(input_size=256, output_size=y_data.shape[1]),\n",
    "    Softmax()\n",
    "]"
   ],
   "outputs": [],
   "execution_count": 107
  },
  {
   "cell_type": "code",
   "id": "2e012277f1587d28",
   "metadata": {
    "ExecuteTime": {
     "end_time": "2025-03-05T02:51:27.278419Z",
     "start_time": "2025-03-05T02:51:27.275317Z"
    }
   },
   "source": "ASL_model = Network(network_layers_28, loss_function)",
   "outputs": [],
   "execution_count": 99
  },
  {
   "cell_type": "code",
   "id": "a7b31dbda54b4c1e",
   "metadata": {
    "ExecuteTime": {
     "end_time": "2025-03-05T03:14:22.722091Z",
     "start_time": "2025-03-05T02:51:27.549147Z"
    }
   },
   "source": [
    "ASL_model.train(x_train, y_train, 20, 0.001)"
   ],
   "outputs": [],
   "execution_count": 100
  },
  {
   "cell_type": "markdown",
   "id": "75e49ce80b1aaa90",
   "metadata": {},
   "source": "Save and Retrieve the Model"
  },
  {
   "metadata": {
    "ExecuteTime": {
     "end_time": "2025-03-05T03:15:01.974670Z",
     "start_time": "2025-03-05T03:15:01.960035Z"
    }
   },
   "cell_type": "code",
   "source": [
    "import pickle\n",
    "\n",
    "\"\"\"Save the trained model's weights and biases in a pickle (.pkl) file.\"\"\"\n",
    "def save_model(model, model_path):\n",
    "    with open(model_path, 'wb') as file:\n",
    "        pickle.dump(model, file)\n",
    "        \n",
    "\"\"\"Load the model from the pickle file.\"\"\"\n",
    "def get_model(model_path):\n",
    "    with open(model_path, 'rb') as model:\n",
    "        CNN = pickle.load(model)\n",
    "        \n",
    "    return CNN"
   ],
   "id": "4fa528d71b4c2fd1",
   "outputs": [],
   "execution_count": 101
  },
  {
   "metadata": {
    "ExecuteTime": {
     "end_time": "2025-03-05T03:15:03.526799Z",
     "start_time": "2025-03-05T03:15:03.516105Z"
    }
   },
   "cell_type": "code",
   "source": [
    "save_path = '/Users/aaryanpatel/Documents/ComputerScience/CSC590MachineLearning/ASL-CNN/ASL_trained_model28x28NEW.pkl'\n",
    "save_model(ASL_model, save_path)"
   ],
   "id": "817520de8c6b8c65",
   "outputs": [],
   "execution_count": 102
  },
  {
   "metadata": {},
   "cell_type": "markdown",
   "source": "Predict and Evaluate",
   "id": "d2d57eea885a62bb"
  },
  {
   "metadata": {
    "ExecuteTime": {
     "end_time": "2025-03-05T03:15:04.759076Z",
     "start_time": "2025-03-05T03:15:04.756396Z"
    }
   },
   "cell_type": "code",
   "source": [
    "\"\"\"Gets true and predicted labels for a given image.\"\"\"\n",
    "def get_labels(image, index, CNN):\n",
    "    label = np.argmax(y_test[index])\n",
    "    prediction = CNN.predict(image)\n",
    "    pred_label = np.argmax(prediction)\n",
    "    \n",
    "    return label, pred_label"
   ],
   "id": "1cc69fe7bbeb262a",
   "outputs": [],
   "execution_count": 103
  },
  {
   "cell_type": "code",
   "id": "fdfc48ca009df4b7",
   "metadata": {
    "ExecuteTime": {
     "end_time": "2025-03-05T03:15:05.437617Z",
     "start_time": "2025-03-05T03:15:05.432091Z"
    }
   },
   "source": [
    "\"\"\"Use the trained CNN to predict on a random image in the testing set.\"\"\"\n",
    "def predict(CNN):\n",
    "    rand_index = np.random.randint(0, len(x_test) - 1)\n",
    "    image = x_test[rand_index]\n",
    "    \n",
    "    label, pred_label = get_labels(image, rand_index, CNN)\n",
    "\n",
    "    print(\"True Label: \", classes[label])\n",
    "    print(\"Predicted Label: \", classes[pred_label])\n",
    "\n",
    "    plt.imshow(image[0], cmap='gray')\n",
    "    plt.show()"
   ],
   "outputs": [],
   "execution_count": 104
  },
  {
   "cell_type": "code",
   "id": "64f6d2d5a2d0188a",
   "metadata": {
    "ExecuteTime": {
     "end_time": "2025-03-05T03:15:06.449539Z",
     "start_time": "2025-03-05T03:15:06.445291Z"
    }
   },
   "source": [
    "\"\"\"Evaluate the percent accuracy of the trained CNN against the testing set.\"\"\"\n",
    "def accuracy(CNN):\n",
    "    cnt = 0\n",
    "\n",
    "    for i in range(len(x_test)):\n",
    "        image = x_test[i]\n",
    "        label, pred_label = get_labels(image, i, CNN)\n",
    "\n",
    "        if pred_label == label:\n",
    "            cnt += 1\n",
    "\n",
    "    return (cnt / len(x_test)) * 100"
   ],
   "outputs": [],
   "execution_count": 105
  },
  {
   "metadata": {},
   "cell_type": "markdown",
   "source": "Evaluate 28x28 Image With 20 Epochs",
   "id": "399c18342c1c1a67"
  },
  {
   "metadata": {
    "ExecuteTime": {
     "end_time": "2025-03-05T02:06:39.572472Z",
     "start_time": "2025-03-05T02:06:36.584243Z"
    }
   },
   "cell_type": "code",
   "source": [
    "model_path = '/Users/aaryanpatel/Documents/ComputerScience/CSC590MachineLearning/ASL-CNN/ASL_trained_model28x28.pkl'\n",
    "\n",
    "CNN_28 = get_model(model_path)\n",
    "predict(CNN_28)\n",
    "print(\"Accuracy of CNN with 28x28 Image and 20 Epochs: \", accuracy(CNN_28))"
   ],
   "id": "a2f3604c9d97244b",
   "outputs": [
    {
     "name": "stdout",
     "output_type": "stream",
     "text": [
      "True Label:  b\n",
      "Predicted Label:  b\n"
     ]
    },
    {
     "data": {
      "text/plain": [
       "<Figure size 640x480 with 1 Axes>"
      ],
      "image/png": "[encoded data removed]"
     },
     "metadata": {},
     "output_type": "display_data"
    },
    {
     "name": "stdout",
     "output_type": "stream",
     "text": [
      "Accuracy of CNN with 28x28 Image and 20 Epochs:  95.62624254473161\n"
     ]
    }
   ],
   "execution_count": 73
  },
  {
   "metadata": {},
   "cell_type": "markdown",
   "source": "Evaluate 64x64 Images With 20 Epochs",
   "id": "3f481f590b733024"
  },
  {
   "metadata": {
    "ExecuteTime": {
     "end_time": "2025-03-05T03:15:52.239731Z",
     "start_time": "2025-03-05T03:15:45.566537Z"
    }
   },
   "cell_type": "code",
   "source": [
    "model_path = '/Users/aaryanpatel/Documents/ComputerScience/CSC590MachineLearning/ASL-CNN/ASL_trained_model28x28NEW.pkl'\n",
    "\n",
    "CNN_28new = get_model(model_path)\n",
    "predict(CNN_28new)\n",
    "print(\"Accuracy of CNN with 64x64 Image and 20 Epochs: \", accuracy(CNN_28new))"
   ],
   "id": "cae244bea45bdbc0",
   "outputs": [
    {
     "name": "stdout",
     "output_type": "stream",
     "text": [
      "True Label:  p\n",
      "Predicted Label:  i\n"
     ]
    },
    {
     "data": {
      "text/plain": [
       "<Figure size 640x480 with 1 Axes>"
      ],
      "image/png": "[encoded data removed]"
     },
     "metadata": {},
     "output_type": "display_data"
    },
    {
     "name": "stdout",
     "output_type": "stream",
     "text": [
      "Accuracy of CNN with 64x64 Image and 20 Epochs:  14.314115308151093\n"
     ]
    }
   ],
   "execution_count": 106
  },
  {
   "metadata": {},
   "cell_type": "code",
   "outputs": [],
   "execution_count": null,
   "source": "",
   "id": "9d59a4401fa0c28a"
  }
 ],
 "metadata": {
  "kernelspec": {
   "display_name": "Python 3 (ipykernel)",
   "language": "python",
   "name": "python3"
  },
  "language_info": {
   "codemirror_mode": {
    "name": "ipython",
    "version": 3
   },
   "file_extension": ".py",
   "mimetype": "text/x-python",
   "name": "python",
   "nbconvert_exporter": "python",
   "pygments_lexer": "ipython3",
   "version": "3.11.5"
  }
 },
 "nbformat": 4,
 "nbformat_minor": 5
}
