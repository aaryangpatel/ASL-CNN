{
 "cells": [
  {
   "cell_type": "markdown",
   "id": "48e0d4027712622d",
   "metadata": {},
   "source": [
    "Imports"
   ]
  },
  {
   "cell_type": "code",
   "id": "initial_id",
   "metadata": {
    "ExecuteTime": {
     "end_time": "2025-03-05T02:05:50.157917Z",
     "start_time": "2025-03-05T02:05:50.155259Z"
    }
   },
   "source": [
    "import numpy as np\n",
    "import os\n",
    "import cv2\n",
    "import matplotlib.pyplot as plt\n",
    "from sklearn.model_selection import train_test_split"
   ],
   "outputs": [],
   "execution_count": 48
  },
  {
   "cell_type": "code",
   "id": "be0ea784f803fef7",
   "metadata": {
    "ExecuteTime": {
     "end_time": "2025-03-05T02:05:50.490108Z",
     "start_time": "2025-03-05T02:05:50.487533Z"
    }
   },
   "source": [
    "from Model.Network import Network\n",
    "from Layers.MaxPooling import MaxPooling\n",
    "from Layers.FullyConnected import FullyConnected\n",
    "from Layers.Convolution import Convolution\n",
    "from Loss.CrossEntropyLossFunction import CrossEntropyLossFunction\n",
    "from Activation.Softmax import Softmax\n",
    "from Layers.Flatten import Flatten\n",
    "from Activation.ReLU import ReLU"
   ],
   "outputs": [],
   "execution_count": 49
  },
  {
   "cell_type": "markdown",
   "id": "eaaf6dd5e662fcb4",
   "metadata": {},
   "source": [
    "Preprocess Images"
   ]
  },
  {
   "metadata": {
    "ExecuteTime": {
     "end_time": "2025-03-05T02:06:27.660277Z",
     "start_time": "2025-03-05T02:06:27.657903Z"
    }
   },
   "cell_type": "code",
   "source": "image_shape = (28,28)",
   "id": "608c4477bb7d8be",
   "outputs": [],
   "execution_count": 64
  },
  {
   "cell_type": "markdown",
   "id": "e5f039b86c93814b",
   "metadata": {},
   "source": [
    "Extract Data"
   ]
  },
  {
   "cell_type": "code",
   "id": "87f3b5623be1a563",
   "metadata": {
    "ExecuteTime": {
     "end_time": "2025-03-05T02:06:28.702975Z",
     "start_time": "2025-03-05T02:06:28.699512Z"
    }
   },
   "source": [
    "data_path = '/Users/aaryanpatel/Documents/ComputerScience/CSC590MachineLearning/ASL-CNN/asl_dataset'\n",
    "\n",
    "# Sort the folders in the dataset in alphabetical order\n",
    "classes = sorted(os.listdir(data_path))\n",
    "\n",
    "# Create dictionary mapping classes to indexes\n",
    "class_index_dict = {}\n",
    "for index, clas in enumerate(classes):\n",
    "    class_index_dict[clas] = index"
   ],
   "outputs": [],
   "execution_count": 65
  },
  {
   "cell_type": "code",
   "id": "1fe6916bb8f19b6e",
   "metadata": {
    "ExecuteTime": {
     "end_time": "2025-03-05T02:06:30.043323Z",
     "start_time": "2025-03-05T02:06:29.115154Z"
    }
   },
   "source": [
    "images = []\n",
    "labels = []\n",
    "\n",
    "# Extract the images and labels (using the created dictionary) of each subdirectory in the dataset\n",
    "for folder in classes:\n",
    "    folder_dir = os.path.join(data_path, folder)\n",
    "\n",
    "    for image in os.listdir(folder_dir):\n",
    "        img_path = os.path.join(folder_dir, image)\n",
    "\n",
    "        # Read, resize, and normalize the image\n",
    "        image = cv2.imread(img_path, cv2.IMREAD_GRAYSCALE)\n",
    "        image = cv2.resize(image, image_shape)\n",
    "        image = image / 255.0\n",
    "\n",
    "        images.append(image)\n",
    "        labels.append(class_index_dict[folder])"
   ],
   "outputs": [],
   "execution_count": 66
  },
  {
   "cell_type": "markdown",
   "id": "16ce4530d3165e09",
   "metadata": {},
   "source": [
    "Preprocess the Data"
   ]
  },
  {
   "cell_type": "code",
   "id": "d0c66ae7b4df5e5f",
   "metadata": {
    "ExecuteTime": {
     "end_time": "2025-03-05T02:06:30.245272Z",
     "start_time": "2025-03-05T02:06:30.239305Z"
    }
   },
   "source": [
    "# Reshape the images to create the x_data\n",
    "\n",
    "x_data = np.array(images).reshape(-1, 1, image_shape[0], image_shape[1])"
   ],
   "outputs": [],
   "execution_count": 67
  },
  {
   "cell_type": "code",
   "id": "2da25a11f4869769",
   "metadata": {
    "ExecuteTime": {
     "end_time": "2025-03-05T02:06:30.721080Z",
     "start_time": "2025-03-05T02:06:30.718507Z"
    }
   },
   "source": [
    "# One-hot-encode the labels to create the y_data\n",
    "\n",
    "y_data = np.zeros((len(labels), len(classes)))\n",
    "for index, label in enumerate(labels):\n",
    "    y_data[index, label] = 1"
   ],
   "outputs": [],
   "execution_count": 68
  },
  {
   "cell_type": "code",
   "id": "16e1252605baad73",
   "metadata": {
    "ExecuteTime": {
     "end_time": "2025-03-05T02:06:31.227380Z",
     "start_time": "2025-03-05T02:06:31.220081Z"
    }
   },
   "source": [
    "# Split the data in training and testing sets\n",
    "\n",
    "x_train, x_test, y_train, y_test = train_test_split(x_data, y_data, test_size=0.2)"
   ],
   "outputs": [],
   "execution_count": 69
  },
  {
   "cell_type": "markdown",
   "id": "d25359b71ada240d",
   "metadata": {},
   "source": [
    "Create the Model"
   ]
  },
  {
   "cell_type": "code",
   "id": "92a5827046242b83",
   "metadata": {
    "ExecuteTime": {
     "end_time": "2025-03-05T02:05:57.913468Z",
     "start_time": "2025-03-05T02:05:57.900140Z"
    }
   },
   "source": [
    "# Define the loss function and network layers\n",
    "\n",
    "loss_function = CrossEntropyLossFunction()\n",
    "\n",
    "network_layers = [\n",
    "    # Input (Image Shape): 1 (Grayscale Channel) * 64 * 64. Output: 16 * 62 * 62.\n",
    "    Convolution(input_shape=(1, 64, 64), output_depth=16, kernel_size=3),\n",
    "    ReLU(),\n",
    "    # Max Pooling will divide shape by the stride. Output of Max Pooling: 16 * 31 * 31\n",
    "    MaxPooling(pool_size=2, stride=2),\n",
    "    \n",
    "    # Input: 16 * 31 * 31. Often, each Convolution Layer doubles the output_depth. Output: 32 * 29 * 29 \n",
    "    Convolution(input_shape=(16, 31, 31), output_depth=32, kernel_size=3),\n",
    "    ReLU(),\n",
    "    # Output: 32 * 14 * 14.\n",
    "    MaxPooling(pool_size=2, stride=2),\n",
    "\n",
    "    # Input: 32 * 14 * 14. Output: 64 * 12 * 12\n",
    "    Convolution(input_shape=(32, 14, 14), output_depth=64, kernel_size=3),\n",
    "    ReLU(),\n",
    "    # Output: 64 * 6 * 6.\n",
    "    MaxPooling(pool_size=2, stride=2),\n",
    "\n",
    "    # Flattening multidimensional array to 1D. Input: 64 * 6 * 6\n",
    "    Flatten(),\n",
    "    \n",
    "    FullyConnected(input_size=64 * 6 * 6, output_size=256),\n",
    "    ReLU(),\n",
    "    \n",
    "    # Input: 256. Output: 36 (Number of total labels).\n",
    "    FullyConnected(input_size=256, output_size=y_data.shape[1]),\n",
    "    Softmax()\n",
    "]"
   ],
   "outputs": [],
   "execution_count": 56
  },
  {
   "cell_type": "code",
   "id": "2e012277f1587d28",
   "metadata": {
    "ExecuteTime": {
     "end_time": "2025-03-05T02:05:58.667183Z",
     "start_time": "2025-03-05T02:05:58.664036Z"
    }
   },
   "source": "ASL_model = Network(network_layers, loss_function)",
   "outputs": [],
   "execution_count": 57
  },
  {
   "cell_type": "code",
   "id": "a7b31dbda54b4c1e",
   "metadata": {
    "ExecuteTime": {
     "end_time": "2025-03-05T01:50:26.978976Z",
     "start_time": "2025-03-05T01:50:24.040517Z"
    }
   },
   "source": [
    "ASL_model.train(x_train, y_train, 20, 0.001)"
   ],
   "outputs": [
    {
     "ename": "KeyboardInterrupt",
     "evalue": "",
     "output_type": "error",
     "traceback": [
      "\u001B[0;31m---------------------------------------------------------------------------\u001B[0m",
      "\u001B[0;31mKeyboardInterrupt\u001B[0m                         Traceback (most recent call last)",
      "Cell \u001B[0;32mIn[12], line 1\u001B[0m\n\u001B[0;32m----> 1\u001B[0m \u001B[43mASL_model\u001B[49m\u001B[38;5;241;43m.\u001B[39;49m\u001B[43mtrain\u001B[49m\u001B[43m(\u001B[49m\u001B[43mx_train\u001B[49m\u001B[43m,\u001B[49m\u001B[43m \u001B[49m\u001B[43my_train\u001B[49m\u001B[43m,\u001B[49m\u001B[43m \u001B[49m\u001B[38;5;241;43m20\u001B[39;49m\u001B[43m,\u001B[49m\u001B[43m \u001B[49m\u001B[38;5;241;43m0.001\u001B[39;49m\u001B[43m)\u001B[49m\n",
      "File \u001B[0;32m~/Documents/ComputerScience/CSC590MachineLearning/ASL-CNN/Model/Network.py:28\u001B[0m, in \u001B[0;36mNetwork.train\u001B[0;34m(self, x_train, y_train, epochs, learning_rate)\u001B[0m\n\u001B[1;32m     26\u001B[0m \u001B[38;5;66;03m# Iterate through each training sample\u001B[39;00m\n\u001B[1;32m     27\u001B[0m \u001B[38;5;28;01mfor\u001B[39;00m i \u001B[38;5;129;01min\u001B[39;00m \u001B[38;5;28mrange\u001B[39m(x_train\u001B[38;5;241m.\u001B[39mshape[\u001B[38;5;241m0\u001B[39m]):\n\u001B[0;32m---> 28\u001B[0m     output \u001B[38;5;241m=\u001B[39m \u001B[38;5;28;43mself\u001B[39;49m\u001B[38;5;241;43m.\u001B[39;49m\u001B[43mpredict\u001B[49m\u001B[43m(\u001B[49m\u001B[43mx_train\u001B[49m\u001B[43m[\u001B[49m\u001B[43mi\u001B[49m\u001B[43m]\u001B[49m\u001B[43m)\u001B[49m\n\u001B[1;32m     30\u001B[0m     \u001B[38;5;66;03m# Back propagate starting with error gradient\u001B[39;00m\n\u001B[1;32m     31\u001B[0m     grad \u001B[38;5;241m=\u001B[39m \u001B[38;5;28mself\u001B[39m\u001B[38;5;241m.\u001B[39mloss\u001B[38;5;241m.\u001B[39mbackward(y_train[i], output)\n",
      "File \u001B[0;32m~/Documents/ComputerScience/CSC590MachineLearning/ASL-CNN/Model/Network.py:17\u001B[0m, in \u001B[0;36mNetwork.predict\u001B[0;34m(self, input)\u001B[0m\n\u001B[1;32m     14\u001B[0m output \u001B[38;5;241m=\u001B[39m \u001B[38;5;28minput\u001B[39m\n\u001B[1;32m     16\u001B[0m \u001B[38;5;28;01mfor\u001B[39;00m layer \u001B[38;5;129;01min\u001B[39;00m \u001B[38;5;28mself\u001B[39m\u001B[38;5;241m.\u001B[39mnetwork:\n\u001B[0;32m---> 17\u001B[0m     output \u001B[38;5;241m=\u001B[39m \u001B[43mlayer\u001B[49m\u001B[38;5;241;43m.\u001B[39;49m\u001B[43mforward\u001B[49m\u001B[43m(\u001B[49m\u001B[43moutput\u001B[49m\u001B[43m)\u001B[49m\n\u001B[1;32m     19\u001B[0m \u001B[38;5;28;01mreturn\u001B[39;00m output\n",
      "File \u001B[0;32m~/Documents/ComputerScience/CSC590MachineLearning/ASL-CNN/Layers/Convolution.py:32\u001B[0m, in \u001B[0;36mConvolution.forward\u001B[0;34m(self, input)\u001B[0m\n\u001B[1;32m     30\u001B[0m \u001B[38;5;66;03m# Iterate through each output channel and accumulate the valid correlation value of the input channel with the associated kernels\u001B[39;00m\n\u001B[1;32m     31\u001B[0m \u001B[38;5;28;01mfor\u001B[39;00m output_channel \u001B[38;5;129;01min\u001B[39;00m \u001B[38;5;28mrange\u001B[39m(\u001B[38;5;28mself\u001B[39m\u001B[38;5;241m.\u001B[39moutput_depth):\n\u001B[0;32m---> 32\u001B[0m     \u001B[38;5;28;01mfor\u001B[39;00m input_channel \u001B[38;5;129;01min\u001B[39;00m \u001B[38;5;28mrange\u001B[39m(\u001B[38;5;28mself\u001B[39m\u001B[38;5;241m.\u001B[39minput_depth):\n\u001B[1;32m     33\u001B[0m         \u001B[38;5;28mself\u001B[39m\u001B[38;5;241m.\u001B[39moutput[output_channel] \u001B[38;5;241m+\u001B[39m\u001B[38;5;241m=\u001B[39m signal\u001B[38;5;241m.\u001B[39mcorrelate2d(\u001B[38;5;28mself\u001B[39m\u001B[38;5;241m.\u001B[39minput[input_channel],\n\u001B[1;32m     34\u001B[0m                                                           \u001B[38;5;28mself\u001B[39m\u001B[38;5;241m.\u001B[39mkernels[output_channel, input_channel], \u001B[38;5;124m\"\u001B[39m\u001B[38;5;124mvalid\u001B[39m\u001B[38;5;124m\"\u001B[39m)\n\u001B[1;32m     36\u001B[0m \u001B[38;5;28;01mreturn\u001B[39;00m \u001B[38;5;28mself\u001B[39m\u001B[38;5;241m.\u001B[39moutput\n",
      "File \u001B[0;32m/Library/Frameworks/Python.framework/Versions/3.11/lib/python3.11/site-packages/scipy/signal/_signaltools.py:1848\u001B[0m, in \u001B[0;36mcorrelate2d\u001B[0;34m(in1, in2, mode, boundary, fillvalue)\u001B[0m\n\u001B[1;32m   1846\u001B[0m val \u001B[38;5;241m=\u001B[39m _valfrommode(mode)\n\u001B[1;32m   1847\u001B[0m bval \u001B[38;5;241m=\u001B[39m _bvalfromboundary(boundary)\n\u001B[0;32m-> 1848\u001B[0m out \u001B[38;5;241m=\u001B[39m \u001B[43m_sigtools\u001B[49m\u001B[38;5;241;43m.\u001B[39;49m\u001B[43m_convolve2d\u001B[49m\u001B[43m(\u001B[49m\u001B[43min1\u001B[49m\u001B[43m,\u001B[49m\u001B[43m \u001B[49m\u001B[43min2\u001B[49m\u001B[38;5;241;43m.\u001B[39;49m\u001B[43mconj\u001B[49m\u001B[43m(\u001B[49m\u001B[43m)\u001B[49m\u001B[43m,\u001B[49m\u001B[43m \u001B[49m\u001B[38;5;241;43m0\u001B[39;49m\u001B[43m,\u001B[49m\u001B[43m \u001B[49m\u001B[43mval\u001B[49m\u001B[43m,\u001B[49m\u001B[43m \u001B[49m\u001B[43mbval\u001B[49m\u001B[43m,\u001B[49m\u001B[43m \u001B[49m\u001B[43mfillvalue\u001B[49m\u001B[43m)\u001B[49m\n\u001B[1;32m   1850\u001B[0m \u001B[38;5;28;01mif\u001B[39;00m swapped_inputs:\n\u001B[1;32m   1851\u001B[0m     out \u001B[38;5;241m=\u001B[39m out[::\u001B[38;5;241m-\u001B[39m\u001B[38;5;241m1\u001B[39m, ::\u001B[38;5;241m-\u001B[39m\u001B[38;5;241m1\u001B[39m]\n",
      "\u001B[0;31mKeyboardInterrupt\u001B[0m: "
     ]
    }
   ],
   "execution_count": 12
  },
  {
   "cell_type": "markdown",
   "id": "75e49ce80b1aaa90",
   "metadata": {},
   "source": "Save and Retrieve the Model"
  },
  {
   "metadata": {
    "ExecuteTime": {
     "end_time": "2025-03-05T02:06:00.583093Z",
     "start_time": "2025-03-05T02:06:00.579657Z"
    }
   },
   "cell_type": "code",
   "source": [
    "import pickle\n",
    "\n",
    "\"\"\"Save the trained model's weights and biases in a pickle file.\"\"\"\n",
    "def save_model(model, model_path):\n",
    "    with open(model_path, 'wb') as file:\n",
    "        pickle.dump(ASL_model, file)\n",
    "        \n",
    "\"\"\"Load the model from the pickle file.\"\"\"\n",
    "def get_model(model_path):\n",
    "    with open(model_path, 'rb') as model:\n",
    "        CNN = pickle.load(model)\n",
    "    return CNN"
   ],
   "id": "4fa528d71b4c2fd1",
   "outputs": [],
   "execution_count": 58
  },
  {
   "metadata": {},
   "cell_type": "markdown",
   "source": "Predict and Evaluate",
   "id": "d2d57eea885a62bb"
  },
  {
   "metadata": {
    "ExecuteTime": {
     "end_time": "2025-03-05T02:06:34.663383Z",
     "start_time": "2025-03-05T02:06:34.659013Z"
    }
   },
   "cell_type": "code",
   "source": [
    "\"\"\"Gets true and predicted labels for a given image.\"\"\"\n",
    "def get_labels(image, index, CNN):\n",
    "    label = np.argmax(y_test[index])\n",
    "    prediction = CNN.predict(image)\n",
    "    pred_label = np.argmax(prediction)\n",
    "    \n",
    "    return label, pred_label"
   ],
   "id": "1cc69fe7bbeb262a",
   "outputs": [],
   "execution_count": 70
  },
  {
   "cell_type": "code",
   "id": "fdfc48ca009df4b7",
   "metadata": {
    "ExecuteTime": {
     "end_time": "2025-03-05T02:06:35.010742Z",
     "start_time": "2025-03-05T02:06:35.007112Z"
    }
   },
   "source": [
    "\"\"\"Use the trained CNN to predict on a random image in the testing set.\"\"\"\n",
    "def predict(CNN):\n",
    "    rand_index = np.random.randint(0, len(x_test) - 1)\n",
    "    image = x_test[rand_index]\n",
    "    \n",
    "    label, pred_label = get_labels(image, rand_index, CNN)\n",
    "\n",
    "    print(\"True Label: \", classes[label])\n",
    "    print(\"Predicted Label: \", classes[pred_label])\n",
    "\n",
    "    plt.imshow(image[0], cmap='gray')\n",
    "    plt.show()"
   ],
   "outputs": [],
   "execution_count": 71
  },
  {
   "cell_type": "code",
   "id": "64f6d2d5a2d0188a",
   "metadata": {
    "ExecuteTime": {
     "end_time": "2025-03-05T02:06:35.354547Z",
     "start_time": "2025-03-05T02:06:35.352331Z"
    }
   },
   "source": [
    "def accuracy(CNN):\n",
    "    cnt = 0\n",
    "\n",
    "    for i in range(len(x_test)):\n",
    "        image = x_test[i]\n",
    "        label, pred_label = get_labels(image, i, CNN)\n",
    "\n",
    "        if pred_label == label:\n",
    "            cnt += 1\n",
    "\n",
    "    return (cnt / len(x_test)) * 100"
   ],
   "outputs": [],
   "execution_count": 72
  },
  {
   "metadata": {},
   "cell_type": "markdown",
   "source": "Evaluate 28x28 Image With 20 Epochs",
   "id": "399c18342c1c1a67"
  },
  {
   "metadata": {
    "ExecuteTime": {
     "end_time": "2025-03-05T02:06:39.572472Z",
     "start_time": "2025-03-05T02:06:36.584243Z"
    }
   },
   "cell_type": "code",
   "source": [
    "model_path = '/Users/aaryanpatel/Documents/ComputerScience/CSC590MachineLearning/ASL-CNN/ASL_trained_model28x28.pkl'\n",
    "\n",
    "CNN_28 = get_model(model_path)\n",
    "predict(CNN_28)\n",
    "print(\"Accuracy of CNN with 28x28 Image and 20 Epochs: \", accuracy(CNN_28))"
   ],
   "id": "a2f3604c9d97244b",
   "outputs": [
    {
     "name": "stdout",
     "output_type": "stream",
     "text": [
      "True Label:  b\n",
      "Predicted Label:  b\n"
     ]
    },
    {
     "data": {
      "text/plain": [
       "<Figure size 640x480 with 1 Axes>"
      ],
      "image/png": "[encoded data removed]"
     },
     "metadata": {},
     "output_type": "display_data"
    },
    {
     "name": "stdout",
     "output_type": "stream",
     "text": [
      "Accuracy of CNN with 28x28 Image and 20 Epochs:  95.62624254473161\n"
     ]
    }
   ],
   "execution_count": 73
  },
  {
   "metadata": {},
   "cell_type": "code",
   "outputs": [],
   "execution_count": null,
   "source": "",
   "id": "cae244bea45bdbc0"
  }
 ],
 "metadata": {
  "kernelspec": {
   "display_name": "Python 3 (ipykernel)",
   "language": "python",
   "name": "python3"
  },
  "language_info": {
   "codemirror_mode": {
    "name": "ipython",
    "version": 3
   },
   "file_extension": ".py",
   "mimetype": "text/x-python",
   "name": "python",
   "nbconvert_exporter": "python",
   "pygments_lexer": "ipython3",
   "version": "3.11.5"
  }
 },
 "nbformat": 4,
 "nbformat_minor": 5
}
