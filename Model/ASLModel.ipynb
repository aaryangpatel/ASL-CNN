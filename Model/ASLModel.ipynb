{
 "cells": [
  {
   "cell_type": "markdown",
   "id": "48e0d4027712622d",
   "metadata": {},
   "source": [
    "Imports"
   ]
  },
  {
   "cell_type": "code",
   "id": "initial_id",
   "metadata": {
    "ExecuteTime": {
     "end_time": "2025-03-05T04:02:50.715556Z",
     "start_time": "2025-03-05T04:02:50.711872Z"
    }
   },
   "source": [
    "import numpy as np\n",
    "import os\n",
    "import cv2\n",
    "import matplotlib.pyplot as plt\n",
    "from sklearn.model_selection import train_test_split\n",
    "import pandas as pd"
   ],
   "outputs": [],
   "execution_count": 130
  },
  {
   "cell_type": "code",
   "id": "be0ea784f803fef7",
   "metadata": {
    "ExecuteTime": {
     "end_time": "2025-03-05T04:02:50.997725Z",
     "start_time": "2025-03-05T04:02:50.994116Z"
    }
   },
   "source": [
    "from Model.Network import Network\n",
    "from Layers.MaxPooling import MaxPooling\n",
    "from Layers.FullyConnected import FullyConnected\n",
    "from Layers.Convolution import Convolution\n",
    "from Loss.CrossEntropyLossFunction import CrossEntropyLossFunction\n",
    "from Activation.Softmax import Softmax\n",
    "from Layers.Flatten import Flatten\n",
    "from Activation.ReLU import ReLU"
   ],
   "outputs": [],
   "execution_count": 131
  },
  {
   "cell_type": "markdown",
   "id": "eaaf6dd5e662fcb4",
   "metadata": {},
   "source": [
    "Preprocess Images"
   ]
  },
  {
   "metadata": {
    "ExecuteTime": {
     "end_time": "2025-03-05T04:40:54.520993Z",
     "start_time": "2025-03-05T04:40:54.513022Z"
    }
   },
   "cell_type": "code",
   "source": "image_shape = (28, 28)",
   "id": "608c4477bb7d8be",
   "outputs": [],
   "execution_count": 181
  },
  {
   "cell_type": "markdown",
   "id": "e5f039b86c93814b",
   "metadata": {},
   "source": [
    "Extract Data"
   ]
  },
  {
   "cell_type": "code",
   "id": "87f3b5623be1a563",
   "metadata": {
    "ExecuteTime": {
     "end_time": "2025-03-05T04:40:59.124877Z",
     "start_time": "2025-03-05T04:40:59.120338Z"
    }
   },
   "source": [
    "# Sort the folders in the dataset in alphabetical order\n",
    "classes = sorted(os.listdir('../asl_dataset'))\n",
    "\n",
    "# Create dictionary mapping classes to indexes\n",
    "#class_index_dict = {}\n",
    "#for index, clas in enumerate(classes):\n",
    "    #class_index_dict[clas] = index"
   ],
   "outputs": [],
   "execution_count": 182
  },
  {
   "cell_type": "code",
   "id": "1fe6916bb8f19b6e",
   "metadata": {
    "ExecuteTime": {
     "end_time": "2025-03-05T04:41:02.038307Z",
     "start_time": "2025-03-05T04:41:01.027940Z"
    }
   },
   "source": [
    "images = []\n",
    "labels = []\n",
    "\n",
    "# Extract the images and labels (using the created dictionary) of each subdirectory in the dataset\n",
    "\n",
    "for folder in classes:\n",
    "    folder_dir = os.path.join('../asl_dataset', folder)\n",
    "\n",
    "    for image in os.listdir(folder_dir):\n",
    "        img_path = os.path.join(folder_dir, image)\n",
    "\n",
    "        data_sample = cv2.imread(img_path, cv2.IMREAD_GRAYSCALE)\n",
    "        data_sample = cv2.resize(data_sample, (28, 28))\n",
    "        data_sample = data_sample / 255.0\n",
    "\n",
    "        images.append(data_sample)\n",
    "        labels.append(folder)\n",
    "        #labels.append(class_index_dict[folder])"
   ],
   "outputs": [],
   "execution_count": 183
  },
  {
   "cell_type": "markdown",
   "id": "16ce4530d3165e09",
   "metadata": {},
   "source": [
    "Preprocess the Data"
   ]
  },
  {
   "metadata": {
    "ExecuteTime": {
     "end_time": "2025-03-05T04:41:03.855019Z",
     "start_time": "2025-03-05T04:41:03.846515Z"
    }
   },
   "cell_type": "code",
   "source": [
    "# Reshape the images to create the x_data\n",
    "\n",
    "x_data = np.array(images).reshape(-1, 1, image_shape[0], image_shape[1])"
   ],
   "id": "ec1062cf0b572d82",
   "outputs": [],
   "execution_count": 184
  },
  {
   "cell_type": "code",
   "id": "2da25a11f4869769",
   "metadata": {
    "ExecuteTime": {
     "end_time": "2025-03-05T04:41:04.701127Z",
     "start_time": "2025-03-05T04:41:04.692275Z"
    }
   },
   "source": [
    "# One-hot-encode the labels to create the y_data\n",
    "\n",
    "df = pd.DataFrame(labels)\n",
    "df = pd.get_dummies(df)\n",
    "\n",
    "y_data = df.values\n",
    "\n",
    "#y_data = np.zeros((len(labels), len(classes)))\n",
    "#for index, label in enumerate(labels):\n",
    "    #y_data[index, label] = 1"
   ],
   "outputs": [],
   "execution_count": 185
  },
  {
   "cell_type": "code",
   "id": "16e1252605baad73",
   "metadata": {
    "ExecuteTime": {
     "end_time": "2025-03-05T04:41:05.354854Z",
     "start_time": "2025-03-05T04:41:05.342781Z"
    }
   },
   "source": [
    "# Split the data in training and testing sets\n",
    "\n",
    "x_train, x_test, y_train, y_test = train_test_split(x_data, y_data, test_size=0.2)"
   ],
   "outputs": [],
   "execution_count": 186
  },
  {
   "cell_type": "markdown",
   "id": "d25359b71ada240d",
   "metadata": {},
   "source": "Create and Train the Model"
  },
  {
   "cell_type": "code",
   "id": "92a5827046242b83",
   "metadata": {
    "ExecuteTime": {
     "end_time": "2025-03-05T04:41:06.373771Z",
     "start_time": "2025-03-05T04:41:06.359257Z"
    }
   },
   "source": [
    "# Define the loss function and network layers\n",
    "\n",
    "loss_function = CrossEntropyLossFunction()\n",
    "\n",
    "network_layers_28 = [\n",
    "    Convolution(input_shape=(1, 28, 28), output_depth=8, kernel_size=3),\n",
    "    ReLU(),\n",
    "    MaxPooling(pool_size=2, stride=2),\n",
    "\n",
    "    Convolution(input_shape=(8, 13, 13), output_depth=16, kernel_size=3),\n",
    "    ReLU(),\n",
    "    MaxPooling(pool_size=2, stride=2),\n",
    "\n",
    "    Flatten(),\n",
    "\n",
    "    FullyConnected(input_size=400, output_size=128),\n",
    "    ReLU(),\n",
    "\n",
    "    FullyConnected(input_size=128, output_size=y_data.shape[1]),\n",
    "    Softmax()\n",
    "]\n",
    "\n",
    "network_layers_64 = [\n",
    "    # Input (Image Shape): 1 (Grayscale Channel) * 64 * 64. Convolution using a kernel of size 3 to create an output with depth 16. Output: 16 * 62 * 62.\n",
    "    Convolution(input_shape=(1, 64, 64), output_depth=16, kernel_size=3),\n",
    "    ReLU(),\n",
    "    # Max Pooling will divide shape by the stride. Output of Max Pooling: 16 * 31 * 31.\n",
    "    MaxPooling(pool_size=2, stride=2),\n",
    "    \n",
    "    # Input: 16 * 31 * 31. Often, each Convolution Layer doubles the output_depth. Output: 32 * 29 * 29\n",
    "    Convolution(input_shape=(16, 31, 31), output_depth=32, kernel_size=3),\n",
    "    ReLU(),\n",
    "    # Output: 32 * 14 * 14.\n",
    "    MaxPooling(pool_size=2, stride=2),\n",
    "\n",
    "    # Input: 32 * 14 * 14. Output: 64 * 12 * 12.\n",
    "    Convolution(input_shape=(32, 14, 14), output_depth=64, kernel_size=3),\n",
    "    ReLU(),\n",
    "    # Output: 64 * 6 * 6.\n",
    "    MaxPooling(pool_size=2, stride=2),\n",
    "\n",
    "    # Flattening multidimensional array to 1D. Input: 64 * 6 * 6.\n",
    "    Flatten(),\n",
    "    \n",
    "    FullyConnected(input_size=64 * 6 * 6, output_size=256),\n",
    "    ReLU(),\n",
    "    \n",
    "    # Input: 256. Output: 36 (Number of total labels).\n",
    "    FullyConnected(input_size=256, output_size=y_data.shape[1]),\n",
    "    Softmax()\n",
    "]"
   ],
   "outputs": [],
   "execution_count": 187
  },
  {
   "cell_type": "code",
   "id": "2e012277f1587d28",
   "metadata": {
    "ExecuteTime": {
     "end_time": "2025-03-05T04:41:07.564408Z",
     "start_time": "2025-03-05T04:41:07.559066Z"
    }
   },
   "source": "ASL_model = Network(network_layers_28, loss_function)",
   "outputs": [],
   "execution_count": 188
  },
  {
   "cell_type": "code",
   "id": "a7b31dbda54b4c1e",
   "metadata": {
    "ExecuteTime": {
     "end_time": "2025-03-05T04:54:28.541814Z",
     "start_time": "2025-03-05T04:41:08.347728Z"
    }
   },
   "source": "ASL_model.train(x_train, y_train, 20, 0.01)",
   "outputs": [],
   "execution_count": 189
  },
  {
   "cell_type": "markdown",
   "id": "75e49ce80b1aaa90",
   "metadata": {},
   "source": "Save and Retrieve the Model"
  },
  {
   "metadata": {
    "ExecuteTime": {
     "end_time": "2025-03-05T04:54:51.076746Z",
     "start_time": "2025-03-05T04:54:51.072967Z"
    }
   },
   "cell_type": "code",
   "source": [
    "import pickle\n",
    "\n",
    "\"\"\"Save the trained model's weights and biases in a pickle (.pkl) file.\"\"\"\n",
    "def save_model(model, model_path):\n",
    "    with open(model_path, 'wb') as file:\n",
    "        pickle.dump(model, file)\n",
    "\n",
    "\"\"\"Load the model from the pickle file.\"\"\"\n",
    "def get_model(model_path):\n",
    "    with open(model_path, 'rb') as model:\n",
    "        CNN = pickle.load(model)\n",
    "\n",
    "    return CNN"
   ],
   "id": "4fa528d71b4c2fd1",
   "outputs": [],
   "execution_count": 190
  },
  {
   "metadata": {
    "ExecuteTime": {
     "end_time": "2025-03-05T04:54:53.264333Z",
     "start_time": "2025-03-05T04:54:53.260257Z"
    }
   },
   "cell_type": "code",
   "source": [
    "save_path = '/Users/aaryanpatel/Documents/ComputerScience/CSC590MachineLearning/ASL-CNN/ASL_trained_CNN28x28.pkl'\n",
    "save_model(ASL_model, save_path)"
   ],
   "id": "817520de8c6b8c65",
   "outputs": [],
   "execution_count": 191
  },
  {
   "metadata": {},
   "cell_type": "markdown",
   "source": "Predict and Evaluate",
   "id": "d2d57eea885a62bb"
  },
  {
   "metadata": {
    "ExecuteTime": {
     "end_time": "2025-03-05T04:54:54.398734Z",
     "start_time": "2025-03-05T04:54:54.394636Z"
    }
   },
   "cell_type": "code",
   "source": [
    "\"\"\"Gets true and predicted labels for a given image.\"\"\"\n",
    "def get_labels(image, index, CNN):\n",
    "    label = np.argmax(y_test[index])\n",
    "    prediction = CNN.predict(image)\n",
    "    pred_label = np.argmax(prediction)\n",
    "    \n",
    "    return label, pred_label"
   ],
   "id": "1cc69fe7bbeb262a",
   "outputs": [],
   "execution_count": 192
  },
  {
   "cell_type": "code",
   "id": "fdfc48ca009df4b7",
   "metadata": {
    "ExecuteTime": {
     "end_time": "2025-03-05T04:54:54.916663Z",
     "start_time": "2025-03-05T04:54:54.913759Z"
    }
   },
   "source": [
    "\"\"\"Use the trained CNN to predict on a random image in the testing set.\"\"\"\n",
    "def predict(CNN):\n",
    "    rand_index = np.random.randint(0, len(x_test) - 1)\n",
    "    image = x_test[rand_index]\n",
    "    \n",
    "    label, pred_label = get_labels(image, rand_index, CNN)\n",
    "\n",
    "    print(\"True Label: \", classes[label])\n",
    "    print(\"Predicted Label: \", classes[pred_label])\n",
    "\n",
    "    plt.imshow(image[0], cmap='gray')\n",
    "    plt.show()"
   ],
   "outputs": [],
   "execution_count": 193
  },
  {
   "cell_type": "code",
   "id": "64f6d2d5a2d0188a",
   "metadata": {
    "ExecuteTime": {
     "end_time": "2025-03-05T04:54:55.781345Z",
     "start_time": "2025-03-05T04:54:55.777513Z"
    }
   },
   "source": [
    "\"\"\"Evaluate the percent accuracy of the trained CNN against the testing set.\"\"\"\n",
    "def accuracy(CNN):\n",
    "    cnt = 0\n",
    "\n",
    "    for i in range(len(x_test)):\n",
    "        image = x_test[i]\n",
    "        label, pred_label = get_labels(image, i, CNN)\n",
    "\n",
    "        if pred_label == label:\n",
    "            cnt += 1\n",
    "\n",
    "    return (cnt / len(x_test)) * 100"
   ],
   "outputs": [],
   "execution_count": 194
  },
  {
   "metadata": {},
   "cell_type": "markdown",
   "source": "Evaluate 28x28 Image With 20 Epochs",
   "id": "399c18342c1c1a67"
  },
  {
   "metadata": {
    "ExecuteTime": {
     "end_time": "2025-03-05T04:39:47.186830Z",
     "start_time": "2025-03-05T04:39:43.243670Z"
    }
   },
   "cell_type": "code",
   "source": [
    "model_path = '/Users/aaryanpatel/Documents/ComputerScience/CSC590MachineLearning/ASL-CNN/ASL_trained_model28x28.pkl'\n",
    "\n",
    "CNN_28 = get_model(model_path)\n",
    "predict(CNN_28)\n",
    "print(\"Accuracy of CNN with 28x28 Image and 20 Epochs: \", accuracy(CNN_28))"
   ],
   "id": "a2f3604c9d97244b",
   "outputs": [
    {
     "name": "stdout",
     "output_type": "stream",
     "text": [
      "True Label:  e\n",
      "Predicted Label:  e\n"
     ]
    },
    {
     "data": {
      "text/plain": [
       "<Figure size 640x480 with 1 Axes>"
      ],
      "image/png": "[encoded data removed]"
     },
     "metadata": {},
     "output_type": "display_data"
    },
    {
     "name": "stdout",
     "output_type": "stream",
     "text": [
      "Accuracy of CNN with 28x28 Image and 20 Epochs:  94.23459244532803\n"
     ]
    }
   ],
   "execution_count": 180
  },
  {
   "metadata": {},
   "cell_type": "markdown",
   "source": "Evaluate 64x64 Images With 20 Epochs",
   "id": "3f481f590b733024"
  },
  {
   "metadata": {
    "ExecuteTime": {
     "end_time": "2025-03-05T04:24:35.141287Z",
     "start_time": "2025-03-05T04:24:35.093066Z"
    }
   },
   "cell_type": "code",
   "source": [
    "model_path = '/Users/aaryanpatel/Documents/ComputerScience/CSC590MachineLearning/ASL-CNN/ASL_trained_model64x64.pkl'\n",
    "\n",
    "CNN_64 = get_model(model_path)\n",
    "predict(CNN_64)\n",
    "print(\"Accuracy of CNN with 64x64 Image and 20 Epochs: \", accuracy(CNN_64))"
   ],
   "id": "cae244bea45bdbc0",
   "outputs": [
    {
     "ename": "ValueError",
     "evalue": "operands could not be broadcast together with shapes (62,62) (26,26) (62,62) ",
     "output_type": "error",
     "traceback": [
      "\u001B[0;31m---------------------------------------------------------------------------\u001B[0m",
      "\u001B[0;31mValueError\u001B[0m                                Traceback (most recent call last)",
      "Cell \u001B[0;32mIn[159], line 4\u001B[0m\n\u001B[1;32m      1\u001B[0m model_path \u001B[38;5;241m=\u001B[39m \u001B[38;5;124m'\u001B[39m\u001B[38;5;124m/Users/aaryanpatel/Documents/ComputerScience/CSC590MachineLearning/ASL-CNN/ASL_trained_model64x64.pkl\u001B[39m\u001B[38;5;124m'\u001B[39m\n\u001B[1;32m      3\u001B[0m CNN_64 \u001B[38;5;241m=\u001B[39m get_model(model_path)\n\u001B[0;32m----> 4\u001B[0m \u001B[43mpredict\u001B[49m\u001B[43m(\u001B[49m\u001B[43mCNN_64\u001B[49m\u001B[43m)\u001B[49m\n\u001B[1;32m      5\u001B[0m \u001B[38;5;28mprint\u001B[39m(\u001B[38;5;124m\"\u001B[39m\u001B[38;5;124mAccuracy of CNN with 64x64 Image and 20 Epochs: \u001B[39m\u001B[38;5;124m\"\u001B[39m, accuracy(CNN_64))\n",
      "Cell \u001B[0;32mIn[156], line 6\u001B[0m, in \u001B[0;36mpredict\u001B[0;34m(CNN)\u001B[0m\n\u001B[1;32m      3\u001B[0m rand_index \u001B[38;5;241m=\u001B[39m np\u001B[38;5;241m.\u001B[39mrandom\u001B[38;5;241m.\u001B[39mrandint(\u001B[38;5;241m0\u001B[39m, \u001B[38;5;28mlen\u001B[39m(x_test) \u001B[38;5;241m-\u001B[39m \u001B[38;5;241m1\u001B[39m)\n\u001B[1;32m      4\u001B[0m image \u001B[38;5;241m=\u001B[39m x_test[rand_index]\n\u001B[0;32m----> 6\u001B[0m label, pred_label \u001B[38;5;241m=\u001B[39m \u001B[43mget_labels\u001B[49m\u001B[43m(\u001B[49m\u001B[43mimage\u001B[49m\u001B[43m,\u001B[49m\u001B[43m \u001B[49m\u001B[43mrand_index\u001B[49m\u001B[43m,\u001B[49m\u001B[43m \u001B[49m\u001B[43mCNN\u001B[49m\u001B[43m)\u001B[49m\n\u001B[1;32m      8\u001B[0m \u001B[38;5;28mprint\u001B[39m(\u001B[38;5;124m\"\u001B[39m\u001B[38;5;124mTrue Label: \u001B[39m\u001B[38;5;124m\"\u001B[39m, classes[label])\n\u001B[1;32m      9\u001B[0m \u001B[38;5;28mprint\u001B[39m(\u001B[38;5;124m\"\u001B[39m\u001B[38;5;124mPredicted Label: \u001B[39m\u001B[38;5;124m\"\u001B[39m, classes[pred_label])\n",
      "Cell \u001B[0;32mIn[155], line 4\u001B[0m, in \u001B[0;36mget_labels\u001B[0;34m(image, index, CNN)\u001B[0m\n\u001B[1;32m      2\u001B[0m \u001B[38;5;28;01mdef\u001B[39;00m \u001B[38;5;21mget_labels\u001B[39m(image, index, CNN):\n\u001B[1;32m      3\u001B[0m     label \u001B[38;5;241m=\u001B[39m np\u001B[38;5;241m.\u001B[39margmax(y_test[index])\n\u001B[0;32m----> 4\u001B[0m     prediction \u001B[38;5;241m=\u001B[39m \u001B[43mCNN\u001B[49m\u001B[38;5;241;43m.\u001B[39;49m\u001B[43mpredict\u001B[49m\u001B[43m(\u001B[49m\u001B[43mimage\u001B[49m\u001B[43m)\u001B[49m\n\u001B[1;32m      5\u001B[0m     pred_label \u001B[38;5;241m=\u001B[39m np\u001B[38;5;241m.\u001B[39margmax(prediction)\n\u001B[1;32m      7\u001B[0m     \u001B[38;5;28;01mreturn\u001B[39;00m label, pred_label\n",
      "File \u001B[0;32m~/Documents/ComputerScience/CSC590MachineLearning/ASL-CNN/Model/Network.py:17\u001B[0m, in \u001B[0;36mNetwork.predict\u001B[0;34m(self, input)\u001B[0m\n\u001B[1;32m     14\u001B[0m output \u001B[38;5;241m=\u001B[39m \u001B[38;5;28minput\u001B[39m\n\u001B[1;32m     16\u001B[0m \u001B[38;5;28;01mfor\u001B[39;00m layer \u001B[38;5;129;01min\u001B[39;00m \u001B[38;5;28mself\u001B[39m\u001B[38;5;241m.\u001B[39mnetwork:\n\u001B[0;32m---> 17\u001B[0m     output \u001B[38;5;241m=\u001B[39m \u001B[43mlayer\u001B[49m\u001B[38;5;241;43m.\u001B[39;49m\u001B[43mforward\u001B[49m\u001B[43m(\u001B[49m\u001B[43moutput\u001B[49m\u001B[43m)\u001B[49m\n\u001B[1;32m     19\u001B[0m \u001B[38;5;28;01mreturn\u001B[39;00m output\n",
      "File \u001B[0;32m~/Documents/ComputerScience/CSC590MachineLearning/ASL-CNN/Layers/Convolution.py:32\u001B[0m, in \u001B[0;36mConvolution.forward\u001B[0;34m(self, input)\u001B[0m\n\u001B[1;32m     30\u001B[0m \u001B[38;5;66;03m# Iterate through each output channel and accumulate the valid correlation value of the input channel with the associated kernels\u001B[39;00m\n\u001B[1;32m     31\u001B[0m \u001B[38;5;28;01mfor\u001B[39;00m output_channel \u001B[38;5;129;01min\u001B[39;00m \u001B[38;5;28mrange\u001B[39m(\u001B[38;5;28mself\u001B[39m\u001B[38;5;241m.\u001B[39moutput_depth):\n\u001B[0;32m---> 32\u001B[0m     \u001B[38;5;28;01mfor\u001B[39;00m input_channel \u001B[38;5;129;01min\u001B[39;00m \u001B[38;5;28mrange\u001B[39m(\u001B[38;5;28mself\u001B[39m\u001B[38;5;241m.\u001B[39minput_depth):\n\u001B[1;32m     33\u001B[0m         \u001B[38;5;28mself\u001B[39m\u001B[38;5;241m.\u001B[39moutput[output_channel] \u001B[38;5;241m+\u001B[39m\u001B[38;5;241m=\u001B[39m signal\u001B[38;5;241m.\u001B[39mcorrelate2d(\u001B[38;5;28mself\u001B[39m\u001B[38;5;241m.\u001B[39minput[input_channel],\n\u001B[1;32m     34\u001B[0m                                                           \u001B[38;5;28mself\u001B[39m\u001B[38;5;241m.\u001B[39mkernels[output_channel, input_channel], \u001B[38;5;124m\"\u001B[39m\u001B[38;5;124mvalid\u001B[39m\u001B[38;5;124m\"\u001B[39m)\n\u001B[1;32m     36\u001B[0m \u001B[38;5;28;01mreturn\u001B[39;00m \u001B[38;5;28mself\u001B[39m\u001B[38;5;241m.\u001B[39moutput\n",
      "\u001B[0;31mValueError\u001B[0m: operands could not be broadcast together with shapes (62,62) (26,26) (62,62) "
     ]
    }
   ],
   "execution_count": 159
  },
  {
   "metadata": {},
   "cell_type": "markdown",
   "source": "Evaluate 28x28 Image With 20 Epochs (Sorted)",
   "id": "303dc3857c5f6775"
  },
  {
   "metadata": {
    "ExecuteTime": {
     "end_time": "2025-03-05T04:55:06.303807Z",
     "start_time": "2025-03-05T04:55:02.721742Z"
    }
   },
   "cell_type": "code",
   "source": [
    "model_path = '/Users/aaryanpatel/Documents/ComputerScience/CSC590MachineLearning/ASL-CNN/ASL_trained_CNN28x28.pkl'\n",
    "\n",
    "CNN_model_28 = get_model(model_path)\n",
    "predict(CNN_model_28)\n",
    "print(\"Accuracy of CNN with 28x28 Image and 20 Epochs: \", accuracy(CNN_model_28))"
   ],
   "id": "9d59a4401fa0c28a",
   "outputs": [
    {
     "name": "stdout",
     "output_type": "stream",
     "text": [
      "True Label:  5\n",
      "Predicted Label:  5\n"
     ]
    },
    {
     "data": {
      "text/plain": [
       "<Figure size 640x480 with 1 Axes>"
      ],
      "image/png": "[encoded data removed]"
     },
     "metadata": {},
     "output_type": "display_data"
    },
    {
     "name": "stdout",
     "output_type": "stream",
     "text": [
      "Accuracy of CNN with 28x28 Image and 20 Epochs:  88.07157057654076\n"
     ]
    }
   ],
   "execution_count": 195
  }
 ],
 "metadata": {
  "kernelspec": {
   "display_name": "Python 3 (ipykernel)",
   "language": "python",
   "name": "python3"
  },
  "language_info": {
   "codemirror_mode": {
    "name": "ipython",
    "version": 3
   },
   "file_extension": ".py",
   "mimetype": "text/x-python",
   "name": "python",
   "nbconvert_exporter": "python",
   "pygments_lexer": "ipython3",
   "version": "3.11.5"
  }
 },
 "nbformat": 4,
 "nbformat_minor": 5
}
