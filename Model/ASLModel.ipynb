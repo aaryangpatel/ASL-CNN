{
 "cells": [
  {
   "cell_type": "markdown",
   "id": "48e0d4027712622d",
   "metadata": {},
   "source": [
    "Imports"
   ]
  },
  {
   "cell_type": "code",
   "id": "initial_id",
   "metadata": {
    "ExecuteTime": {
     "end_time": "2025-03-05T05:00:40.185511Z",
     "start_time": "2025-03-05T05:00:40.178242Z"
    }
   },
   "source": [
    "import numpy as np\n",
    "import os\n",
    "import cv2\n",
    "import matplotlib.pyplot as plt\n",
    "from sklearn.model_selection import train_test_split\n",
    "import pandas as pd"
   ],
   "outputs": [],
   "execution_count": 209
  },
  {
   "cell_type": "code",
   "id": "be0ea784f803fef7",
   "metadata": {
    "ExecuteTime": {
     "end_time": "2025-03-05T05:00:40.593723Z",
     "start_time": "2025-03-05T05:00:40.590969Z"
    }
   },
   "source": [
    "from Model.Network import Network\n",
    "from Layers.MaxPooling import MaxPooling\n",
    "from Layers.FullyConnected import FullyConnected\n",
    "from Layers.Convolution import Convolution\n",
    "from Loss.CrossEntropyLossFunction import CrossEntropyLossFunction\n",
    "from Activation.Softmax import Softmax\n",
    "from Layers.Flatten import Flatten\n",
    "from Activation.ReLU import ReLU"
   ],
   "outputs": [],
   "execution_count": 210
  },
  {
   "cell_type": "markdown",
   "id": "eaaf6dd5e662fcb4",
   "metadata": {},
   "source": [
    "Preprocess Images"
   ]
  },
  {
   "metadata": {
    "ExecuteTime": {
     "end_time": "2025-03-05T05:00:41.747417Z",
     "start_time": "2025-03-05T05:00:41.745421Z"
    }
   },
   "cell_type": "code",
   "source": "image_shape = (64, 64)",
   "id": "608c4477bb7d8be",
   "outputs": [],
   "execution_count": 211
  },
  {
   "cell_type": "markdown",
   "id": "e5f039b86c93814b",
   "metadata": {},
   "source": [
    "Extract Data"
   ]
  },
  {
   "cell_type": "code",
   "id": "87f3b5623be1a563",
   "metadata": {
    "ExecuteTime": {
     "end_time": "2025-03-05T05:00:42.637282Z",
     "start_time": "2025-03-05T05:00:42.634262Z"
    }
   },
   "source": [
    "# Sort the folders in the dataset in alphabetical order\n",
    "\n",
    "classes = sorted(os.listdir('../asl_dataset'))"
   ],
   "outputs": [],
   "execution_count": 212
  },
  {
   "cell_type": "code",
   "id": "1fe6916bb8f19b6e",
   "metadata": {
    "ExecuteTime": {
     "end_time": "2025-03-05T05:00:43.992812Z",
     "start_time": "2025-03-05T05:00:43.049491Z"
    }
   },
   "source": [
    "images = []\n",
    "labels = []\n",
    "\n",
    "# Extract the images and labels of each subdirectory in the dataset\n",
    "for folder in classes:\n",
    "    folder_dir = os.path.join('../asl_dataset', folder)\n",
    "\n",
    "    for image in os.listdir(folder_dir):\n",
    "        img_path = os.path.join(folder_dir, image)\n",
    "\n",
    "        data_sample = cv2.imread(img_path, cv2.IMREAD_GRAYSCALE)\n",
    "        data_sample = cv2.resize(data_sample, image_shape)\n",
    "        data_sample = data_sample / 255.0\n",
    "\n",
    "        images.append(data_sample)\n",
    "        labels.append(folder)"
   ],
   "outputs": [],
   "execution_count": 213
  },
  {
   "cell_type": "markdown",
   "id": "16ce4530d3165e09",
   "metadata": {},
   "source": [
    "Preprocess the Data"
   ]
  },
  {
   "metadata": {
    "ExecuteTime": {
     "end_time": "2025-03-05T05:00:44.243688Z",
     "start_time": "2025-03-05T05:00:44.199637Z"
    }
   },
   "cell_type": "code",
   "source": [
    "# Reshape the images to create the x_data\n",
    "\n",
    "x_data = np.array(images).reshape(-1, 1, image_shape[0], image_shape[1])"
   ],
   "id": "ec1062cf0b572d82",
   "outputs": [],
   "execution_count": 214
  },
  {
   "cell_type": "code",
   "id": "2da25a11f4869769",
   "metadata": {
    "ExecuteTime": {
     "end_time": "2025-03-05T05:00:44.770656Z",
     "start_time": "2025-03-05T05:00:44.766382Z"
    }
   },
   "source": [
    "# One-hot-encode the labels using pandas to create the y_data\n",
    "\n",
    "df = pd.DataFrame(labels)\n",
    "df = pd.get_dummies(df)\n",
    "\n",
    "y_data = df.values"
   ],
   "outputs": [],
   "execution_count": 215
  },
  {
   "cell_type": "code",
   "id": "16e1252605baad73",
   "metadata": {
    "ExecuteTime": {
     "end_time": "2025-03-05T05:00:45.973384Z",
     "start_time": "2025-03-05T05:00:45.871480Z"
    }
   },
   "source": [
    "# Split the data in training and testing sets\n",
    "\n",
    "x_train, x_test, y_train, y_test = train_test_split(x_data, y_data, test_size=0.2)"
   ],
   "outputs": [],
   "execution_count": 216
  },
  {
   "cell_type": "markdown",
   "id": "d25359b71ada240d",
   "metadata": {},
   "source": "Create and Train the Model"
  },
  {
   "cell_type": "code",
   "id": "92a5827046242b83",
   "metadata": {
    "ExecuteTime": {
     "end_time": "2025-03-05T05:00:46.812351Z",
     "start_time": "2025-03-05T05:00:46.797342Z"
    }
   },
   "source": [
    "# Define the loss function and network layers for both image sizes\n",
    "\n",
    "loss_function = CrossEntropyLossFunction()\n",
    "\n",
    "network_layers_28 = [\n",
    "    # Input (Image Shape): 1 (Grayscale Channel) * 28 * 28. Convolution using a kernel of size 3 to create an output with depth 8. Output: 8 * 26 * 26.\n",
    "    Convolution(input_shape=(1, 28, 28), output_depth=8, kernel_size=3),\n",
    "    ReLU(),\n",
    "    # Max Pooling will divide shape by the stride. Output of Max Pooling: 8 * 13 * 13.\n",
    "    MaxPooling(pool_size=2, stride=2),\n",
    "    \n",
    "    # Input: 8 * 13 * 13. Often, each Convolution Layer doubles the output_depth. Output: 16 * 11 * 11\n",
    "    Convolution(input_shape=(8, 13, 13), output_depth=16, kernel_size=3),\n",
    "    ReLU(),\n",
    "    # Output: 16 * 5 * 5.\n",
    "    MaxPooling(pool_size=2, stride=2),\n",
    "    \n",
    "    # Flattening multidimensional array to 1D. Input: 16 * 5 * 5.\n",
    "    Flatten(),\n",
    "\n",
    "    FullyConnected(input_size=16 * 5 * 5, output_size=128),\n",
    "    ReLU(),\n",
    "    \n",
    "    # Input: 128. Output: 36 (Number of total labels).\n",
    "    FullyConnected(input_size=128, output_size=y_data.shape[1]),\n",
    "    Softmax()\n",
    "]\n",
    "\n",
    "network_layers_64 = [\n",
    "    # Input (Image Shape): 1 (Grayscale Channel) * 64 * 64. Convolution using a kernel of size 3 to create an output with depth 16. Output: 16 * 62 * 62.\n",
    "    Convolution(input_shape=(1, 64, 64), output_depth=16, kernel_size=3),\n",
    "    ReLU(),\n",
    "    # Max Pooling will divide shape by the stride. Output of Max Pooling: 16 * 31 * 31.\n",
    "    MaxPooling(pool_size=2, stride=2),\n",
    "    \n",
    "    # Input: 16 * 31 * 31. Often, each Convolution Layer doubles the output_depth. Output: 32 * 29 * 29\n",
    "    Convolution(input_shape=(16, 31, 31), output_depth=32, kernel_size=3),\n",
    "    ReLU(),\n",
    "    # Output: 32 * 14 * 14.\n",
    "    MaxPooling(pool_size=2, stride=2),\n",
    "\n",
    "    # Input: 32 * 14 * 14. Output: 64 * 12 * 12.\n",
    "    Convolution(input_shape=(32, 14, 14), output_depth=64, kernel_size=3),\n",
    "    ReLU(),\n",
    "    # Output: 64 * 6 * 6.\n",
    "    MaxPooling(pool_size=2, stride=2),\n",
    "\n",
    "    # Flattening multidimensional array to 1D. Input: 64 * 6 * 6.\n",
    "    Flatten(),\n",
    "    \n",
    "    FullyConnected(input_size=64 * 6 * 6, output_size=256),\n",
    "    ReLU(),\n",
    "    \n",
    "    # Input: 256. Output: 36 (Number of total labels).\n",
    "    FullyConnected(input_size=256, output_size=y_data.shape[1]),\n",
    "    Softmax()\n",
    "]"
   ],
   "outputs": [],
   "execution_count": 217
  },
  {
   "cell_type": "code",
   "id": "2e012277f1587d28",
   "metadata": {
    "ExecuteTime": {
     "end_time": "2025-03-05T05:00:56.498705Z",
     "start_time": "2025-03-05T05:00:56.495635Z"
    }
   },
   "source": "ASL_model = Network(network_layers_64, loss_function)",
   "outputs": [],
   "execution_count": 220
  },
  {
   "cell_type": "code",
   "id": "a7b31dbda54b4c1e",
   "metadata": {
    "ExecuteTime": {
     "end_time": "2025-03-05T07:53:22.611875Z",
     "start_time": "2025-03-05T05:00:57.165349Z"
    }
   },
   "source": "ASL_model.train(x_train, y_train, 20, 0.01)",
   "outputs": [],
   "execution_count": 221
  },
  {
   "cell_type": "markdown",
   "id": "75e49ce80b1aaa90",
   "metadata": {},
   "source": "Save and Retrieve the Model"
  },
  {
   "metadata": {
    "ExecuteTime": {
     "end_time": "2025-03-05T11:58:13.400612Z",
     "start_time": "2025-03-05T11:58:13.363374Z"
    }
   },
   "cell_type": "code",
   "source": [
    "import pickle\n",
    "\n",
    "\"\"\"Save the trained model's weights and biases in a pickle (.pkl) file.\"\"\"\n",
    "def save_model(model, model_path):\n",
    "    with open(model_path, 'wb') as file:\n",
    "        pickle.dump(model, file)\n",
    "\n",
    "\"\"\"Load the model from the pickle file.\"\"\"\n",
    "def get_model(model_path):\n",
    "    with open(model_path, 'rb') as model:\n",
    "        CNN = pickle.load(model)\n",
    "\n",
    "    return CNN"
   ],
   "id": "4fa528d71b4c2fd1",
   "outputs": [],
   "execution_count": 222
  },
  {
   "metadata": {
    "ExecuteTime": {
     "end_time": "2025-03-05T11:58:14.533799Z",
     "start_time": "2025-03-05T11:58:14.487244Z"
    }
   },
   "cell_type": "code",
   "source": [
    "save_path = '../ASL_trained_CNN64x64.pkl'\n",
    "save_model(ASL_model, save_path)"
   ],
   "id": "817520de8c6b8c65",
   "outputs": [],
   "execution_count": 223
  },
  {
   "metadata": {},
   "cell_type": "markdown",
   "source": "Predict and Evaluate",
   "id": "d2d57eea885a62bb"
  },
  {
   "metadata": {
    "ExecuteTime": {
     "end_time": "2025-03-05T11:58:16.464848Z",
     "start_time": "2025-03-05T11:58:16.458418Z"
    }
   },
   "cell_type": "code",
   "source": [
    "\"\"\"Gets true and predicted labels for a given image.\"\"\"\n",
    "def get_labels(image, index, CNN):\n",
    "    label = np.argmax(y_test[index])\n",
    "    prediction = CNN.predict(image)\n",
    "    pred_label = np.argmax(prediction)\n",
    "    \n",
    "    return label, pred_label"
   ],
   "id": "1cc69fe7bbeb262a",
   "outputs": [],
   "execution_count": 224
  },
  {
   "cell_type": "code",
   "id": "fdfc48ca009df4b7",
   "metadata": {
    "ExecuteTime": {
     "end_time": "2025-03-05T11:58:16.846788Z",
     "start_time": "2025-03-05T11:58:16.841474Z"
    }
   },
   "source": [
    "\"\"\"Use the trained CNN to predict on a random image in the testing set.\"\"\"\n",
    "def predict(CNN):\n",
    "    rand_index = np.random.randint(0, len(x_test) - 1)\n",
    "    image = x_test[rand_index]\n",
    "    \n",
    "    label, pred_label = get_labels(image, rand_index, CNN)\n",
    "\n",
    "    print(\"True Label: \", classes[label])\n",
    "    print(\"Predicted Label: \", classes[pred_label])\n",
    "\n",
    "    plt.imshow(image[0], cmap='gray')\n",
    "    plt.show()"
   ],
   "outputs": [],
   "execution_count": 225
  },
  {
   "cell_type": "code",
   "id": "64f6d2d5a2d0188a",
   "metadata": {
    "ExecuteTime": {
     "end_time": "2025-03-05T11:58:17.640244Z",
     "start_time": "2025-03-05T11:58:17.635012Z"
    }
   },
   "source": [
    "\"\"\"Evaluate the percent accuracy of the trained CNN against the testing set.\"\"\"\n",
    "def accuracy(CNN):\n",
    "    cnt = 0\n",
    "\n",
    "    for i in range(len(x_test)):\n",
    "        image = x_test[i]\n",
    "        label, pred_label = get_labels(image, i, CNN)\n",
    "\n",
    "        if pred_label == label:\n",
    "            cnt += 1\n",
    "\n",
    "    return (cnt / len(x_test)) * 100"
   ],
   "outputs": [],
   "execution_count": 226
  },
  {
   "metadata": {},
   "cell_type": "markdown",
   "source": "Evaluate 28x28 Image With 20 Epochs",
   "id": "303dc3857c5f6775"
  },
  {
   "metadata": {
    "ExecuteTime": {
     "end_time": "2025-03-05T04:57:12.467104Z",
     "start_time": "2025-03-05T04:57:08.367766Z"
    }
   },
   "cell_type": "code",
   "source": [
    "model_path = '../ASL_trained_CNN28x28.pkl'\n",
    "\n",
    "CNN_model_28 = get_model(model_path)\n",
    "predict(CNN_model_28)\n",
    "print(\"Accuracy of CNN with 28x28 Image and 20 Epochs: \", accuracy(CNN_model_28))"
   ],
   "id": "9d59a4401fa0c28a",
   "outputs": [
    {
     "name": "stdout",
     "output_type": "stream",
     "text": [
      "True Label:  s\n",
      "Predicted Label:  s\n"
     ]
    },
    {
     "data": {
      "text/plain": [
       "<Figure size 640x480 with 1 Axes>"
      ],
      "image/png": "[encoded data removed]"
     },
     "metadata": {},
     "output_type": "display_data"
    },
    {
     "name": "stdout",
     "output_type": "stream",
     "text": [
      "Accuracy of CNN with 28x28 Image and 20 Epochs:  88.07157057654076\n"
     ]
    }
   ],
   "execution_count": 196
  },
  {
   "metadata": {},
   "cell_type": "markdown",
   "source": "Evaluate 64x64 Image With 20 Epochs",
   "id": "18b9dab415ff4914"
  },
  {
   "metadata": {
    "ExecuteTime": {
     "end_time": "2025-03-05T12:23:54.682223Z",
     "start_time": "2025-03-05T12:22:52.560164Z"
    }
   },
   "cell_type": "code",
   "source": [
    "model_path = '../ASL_trained_CNN64x64.pkl'\n",
    "\n",
    "CNN_model_64 = get_model(model_path)\n",
    "predict(CNN_model_64)\n",
    "print(\"Accuracy of CNN with 28x28 Image and 20 Epochs: \", accuracy(CNN_model_64))"
   ],
   "id": "fa45a0f12073cbd5",
   "outputs": [
    {
     "name": "stdout",
     "output_type": "stream",
     "text": [
      "True Label:  9\n",
      "Predicted Label:  9\n"
     ]
    },
    {
     "data": {
      "text/plain": [
       "<Figure size 640x480 with 1 Axes>"
      ],
      "image/png": "[encoded data removed]"
     },
     "metadata": {},
     "output_type": "display_data"
    },
    {
     "name": "stdout",
     "output_type": "stream",
     "text": [
      "Accuracy of CNN with 28x28 Image and 20 Epochs:  93.43936381709742\n"
     ]
    }
   ],
   "execution_count": 229
  }
 ],
 "metadata": {
  "kernelspec": {
   "display_name": "Python 3 (ipykernel)",
   "language": "python",
   "name": "python3"
  },
  "language_info": {
   "codemirror_mode": {
    "name": "ipython",
    "version": 3
   },
   "file_extension": ".py",
   "mimetype": "text/x-python",
   "name": "python",
   "nbconvert_exporter": "python",
   "pygments_lexer": "ipython3",
   "version": "3.11.5"
  }
 },
 "nbformat": 4,
 "nbformat_minor": 5
}
