{
 "cells": [
  {
   "cell_type": "code",
   "id": "initial_id",
   "metadata": {
    "collapsed": true,
    "ExecuteTime": {
     "end_time": "2025-02-23T20:32:41.202860Z",
     "start_time": "2025-02-23T20:32:40.849901Z"
    }
   },
   "source": [
    "import numpy as np\n",
    "from scipy import signal"
   ],
   "outputs": [],
   "execution_count": 1
  },
  {
   "metadata": {},
   "cell_type": "code",
   "outputs": [],
   "execution_count": null,
   "source": [
    "class Convolution:\n",
    "    def __init__(self, input_shape, output_depth, kernel_size):\n",
    "        self.input_shape = input_shape\n",
    "        self.output_depth = output_depth\n",
    "        self.kernel_size = kernel_size\n",
    "        input_depth, input_height, input_width = self.input_shape\n",
    "        self.input_depth = input_depth\n",
    "        \n",
    "        self.output_shape = (output_depth, input_height - kernel_size + 1, input_width - kernel_size + 1)\n",
    "        self.kernel_shape = (output_depth, input_depth, kernel_size, kernel_size)\n",
    "        \n",
    "        self.kernels = np.random.randn(*self.kernel_shape)\n",
    "        self.biases = np.random.randn(*self.output_shape)\n",
    "        \n",
    "        self.input = None\n",
    "        self.output = None\n",
    "        \n",
    "    def forward(self, input):\n",
    "        self.input = input\n",
    "        self.output = np.copy(self.biases)\n",
    "        \n",
    "        for neuron in range(self.output_depth):\n",
    "            for channel in range(self.input_depth):\n",
    "                self.output[neuron] += signal.correlate2d(self.input[channel], self.kernels[neuron, channel], \"valid\") \n",
    "                \n",
    "        return self.output\n",
    "    \n",
    "    def backward(self, output_grad, learning_rate):\n",
    "        kernel_grad = np.zeros_like(self.kernel_shape)\n",
    "        input_grad = np.zeros_like(self.input_shape)\n",
    "        \n",
    "        for neuron in range(self.output_depth):\n",
    "            for channel in range(self.input_depth):\n",
    "                kernel_grad[neuron, channel] = signal.correlate2d(self.input[channel], output_grad[neuron, channel], \"valid\")\n",
    "                input_grad[channel] = signal.convolve2d(output_grad[neuron], self.kernels[neuron, channel], \"full\")\n",
    "        \n",
    "        self.kernels -= learning_rate * kernel_grad\n",
    "        self.biases -= learning_rate * output_grad\n",
    "        return input_grad"
   ],
   "id": "10ae316c0f0ed85e"
  }
 ],
 "metadata": {
  "kernelspec": {
   "display_name": "Python 3",
   "language": "python",
   "name": "python3"
  },
  "language_info": {
   "codemirror_mode": {
    "name": "ipython",
    "version": 2
   },
   "file_extension": ".py",
   "mimetype": "text/x-python",
   "name": "python",
   "nbconvert_exporter": "python",
   "pygments_lexer": "ipython2",
   "version": "2.7.6"
  }
 },
 "nbformat": 4,
 "nbformat_minor": 5
}
