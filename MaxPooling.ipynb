{
 "cells": [
  {
   "cell_type": "code",
   "id": "initial_id",
   "metadata": {
    "collapsed": true,
    "ExecuteTime": {
     "end_time": "2025-02-26T13:20:26.442766Z",
     "start_time": "2025-02-26T13:20:25.866132Z"
    }
   },
   "source": [
    "import numpy as np\n",
    "import math"
   ],
   "outputs": [],
   "execution_count": 1
  },
  {
   "metadata": {
    "ExecuteTime": {
     "end_time": "2025-02-26T13:23:29.623717Z",
     "start_time": "2025-02-26T13:23:29.620291Z"
    }
   },
   "cell_type": "code",
   "source": [
    "class MaxPooling:\n",
    "    def __init__(self, pool_size, stride, padding):\n",
    "        self.pool_size = pool_size\n",
    "        self.stride = stride\n",
    "        self.padding = padding\n",
    "        self.input = None\n",
    "        \n",
    "    def forward(self, input):\n",
    "        self.input = input\n",
    "        \n",
    "        input_depth, input_height, input_width = input.shape\n",
    "        output_height = math.floor((input_height - self.pool_size) / self.stride)\n",
    "        output_width = math.floor((input_width - self.pool_size) / self.stride)\n",
    "        output = np.zeros(input_depth, output_height, output_width)\n",
    "        \n",
    "        for channel in range(input_depth):\n",
    "            for row in range(input_height - self.pool_size + 1, self.stride):\n",
    "                for col in range(input_width - self.pool_size + 1, self.stride):\n",
    "                    overlap = self.input[channel, row : row + self.pool_size, col : col + self.pool_size]\n",
    "                    output[channel, math.floor(row / self.stride), math.floor(col / self.stride)] = np.max(overlap)\n",
    "                    \n",
    "        return output      \n",
    "        \n",
    "    def backward(self, output_grad, learning_rate):\n",
    "        input_grad = np.zeros_like(self.input)\n",
    "        input_depth, input_height, input_width = self.input.shape\n",
    "\n",
    "        for channel in range(input_depth):\n",
    "            for row in range(input_height - self.pool_size + 1, self.stride):\n",
    "                for col in range(input_width - self.pool_size + 1, self.stride):\n",
    "                    overlap = self.input[channel, row : row + self.pool_size, col : col + self.pool_size]\n",
    "                    # Flattens to find the max element and then transforms back to matrix\n",
    "                    max_index = np.unravel_index(np.argmax(overlap, axis=None), overlap.shape)\n",
    "                    input_grad[channel, row + max_index[0], col + max_index[1]] = output_grad[channel, math.floor(row / self.stride), math.floor(col / self.stride)]\n",
    "                    \n",
    "        return input_grad"
   ],
   "id": "dd9d37395e37bd63",
   "outputs": [
    {
     "ename": "SyntaxError",
     "evalue": "incomplete input (3778914782.py, line 2)",
     "output_type": "error",
     "traceback": [
      "\u001B[0;36m  Cell \u001B[0;32mIn[2], line 2\u001B[0;36m\u001B[0m\n\u001B[0;31m    def __init__(self):\u001B[0m\n\u001B[0m                       ^\u001B[0m\n\u001B[0;31mSyntaxError\u001B[0m\u001B[0;31m:\u001B[0m incomplete input\n"
     ]
    }
   ],
   "execution_count": 2
  }
 ],
 "metadata": {
  "kernelspec": {
   "display_name": "Python 3",
   "language": "python",
   "name": "python3"
  },
  "language_info": {
   "codemirror_mode": {
    "name": "ipython",
    "version": 2
   },
   "file_extension": ".py",
   "mimetype": "text/x-python",
   "name": "python",
   "nbconvert_exporter": "python",
   "pygments_lexer": "ipython2",
   "version": "2.7.6"
  }
 },
 "nbformat": 4,
 "nbformat_minor": 5
}
