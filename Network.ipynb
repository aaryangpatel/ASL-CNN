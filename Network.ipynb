{
 "cells": [
  {
   "cell_type": "code",
   "id": "initial_id",
   "metadata": {
    "collapsed": true,
    "ExecuteTime": {
     "end_time": "2025-02-26T13:35:48.408421Z",
     "start_time": "2025-02-26T13:35:48.345631Z"
    }
   },
   "source": "import numpy as np",
   "outputs": [],
   "execution_count": 1
  },
  {
   "metadata": {},
   "cell_type": "code",
   "outputs": [],
   "execution_count": null,
   "source": [
    "class Network:\n",
    "    def __init__(self, network, loss):\n",
    "        self.network = network\n",
    "        self.loss = loss\n",
    "\n",
    "    def predict(self, network, input):\n",
    "        output = input\n",
    "        for layer in network:\n",
    "            output = layer.forward(input)\n",
    "            \n",
    "        return output\n",
    "        \n",
    "    def train(self, x_train, y_train, epochs = 50, learning_rate = 0.01):\n",
    "        for epoch in range(epochs):\n",
    "            error = 0\n",
    "            for i in range(x_train.shape[0]):\n",
    "                output = self.predict(x_train[i])\n",
    "                \n",
    "                error += self.loss.forward(y_train[i], output)\n",
    "                \n",
    "                grad = self.loss.backward(y_train[i], output)\n",
    "                for layer in reversed(self.network):\n",
    "                    grad = layer.reverse(grad, learning_rate)     "
   ],
   "id": "ab094a95bfa01afe"
  }
 ],
 "metadata": {
  "kernelspec": {
   "display_name": "Python 3",
   "language": "python",
   "name": "python3"
  },
  "language_info": {
   "codemirror_mode": {
    "name": "ipython",
    "version": 2
   },
   "file_extension": ".py",
   "mimetype": "text/x-python",
   "name": "python",
   "nbconvert_exporter": "python",
   "pygments_lexer": "ipython2",
   "version": "2.7.6"
  }
 },
 "nbformat": 4,
 "nbformat_minor": 5
}
