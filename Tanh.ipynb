{
 "cells": [
  {
   "cell_type": "code",
   "id": "initial_id",
   "metadata": {
    "collapsed": true,
    "ExecuteTime": {
     "end_time": "2025-02-24T14:36:21.769805Z",
     "start_time": "2025-02-24T14:36:21.705938Z"
    }
   },
   "source": "import numpy as np",
   "outputs": [],
   "execution_count": 1
  },
  {
   "metadata": {
    "ExecuteTime": {
     "end_time": "2025-02-24T14:41:16.678680Z",
     "start_time": "2025-02-24T14:41:16.667782Z"
    }
   },
   "cell_type": "code",
   "source": [
    "class Tanh:\n",
    "    def tanh(self, input):\n",
    "        return (np.exp(input) - np.exp(-input)) / (np.exp(input) + np.exp(-input))\n",
    "    \n",
    "    def d_tanh(self, input):\n",
    "        return 1 - self.tanh(self.tanh(input)) ** 2"
   ],
   "id": "448472cc913c62a9",
   "outputs": [],
   "execution_count": 2
  }
 ],
 "metadata": {
  "kernelspec": {
   "display_name": "Python 3",
   "language": "python",
   "name": "python3"
  },
  "language_info": {
   "codemirror_mode": {
    "name": "ipython",
    "version": 2
   },
   "file_extension": ".py",
   "mimetype": "text/x-python",
   "name": "python",
   "nbconvert_exporter": "python",
   "pygments_lexer": "ipython2",
   "version": "2.7.6"
  }
 },
 "nbformat": 4,
 "nbformat_minor": 5
}
