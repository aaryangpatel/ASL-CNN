{
 "cells": [
  {
   "metadata": {},
   "cell_type": "markdown",
   "source": "Imports",
   "id": "48e0d4027712622d"
  },
  {
   "metadata": {
    "ExecuteTime": {
     "end_time": "2025-03-02T21:02:07.723166Z",
     "start_time": "2025-03-02T21:02:06.190938Z"
    }
   },
   "cell_type": "code",
   "source": [
    "import numpy as np\n",
    "import os\n",
    "import cv2\n",
    "import pandas as pd\n",
    "import matplotlib.pyplot as plt\n",
    "from sklearn.model_selection import train_test_split"
   ],
   "id": "initial_id",
   "outputs": [],
   "execution_count": 2
  },
  {
   "metadata": {
    "ExecuteTime": {
     "end_time": "2025-03-02T21:02:07.757692Z",
     "start_time": "2025-03-02T21:02:07.724658Z"
    }
   },
   "cell_type": "code",
   "source": [
    "from Network import Network\n",
    "from MaxPooling import MaxPooling\n",
    "from FullyConnected import FullyConnected\n",
    "from Convolution import Convolution\n",
    "from CrossEntropyLossFunction import CrossEntropyLossFunction\n",
    "from Sigmoid import Sigmoid\n",
    "from Softmax import Softmax\n",
    "from Tanh import Tanh\n",
    "from Flatten import Flatten\n",
    "from ReLU import ReLU"
   ],
   "id": "be0ea784f803fef7",
   "outputs": [],
   "execution_count": 3
  },
  {
   "metadata": {},
   "cell_type": "markdown",
   "source": "Extract Data",
   "id": "e5f039b86c93814b"
  },
  {
   "metadata": {
    "ExecuteTime": {
     "end_time": "2025-03-02T21:02:20.847692Z",
     "start_time": "2025-03-02T21:02:19.823638Z"
    }
   },
   "cell_type": "code",
   "source": [
    "images = []\n",
    "labels = []\n",
    "\n",
    "for folder in os.listdir('asl_dataset'):\n",
    "    folder_dir = os.path.join('asl_dataset', folder)\n",
    "\n",
    "    for image in os.listdir(folder_dir):\n",
    "        img_path = os.path.join(folder_dir, image)\n",
    "\n",
    "        data_sample = cv2.imread(img_path, cv2.IMREAD_GRAYSCALE)\n",
    "        data_sample = cv2.resize(data_sample, (64, 64))\n",
    "        data_sample = data_sample / 255.0\n",
    "\n",
    "        images.append(data_sample)\n",
    "        labels.append(folder)"
   ],
   "id": "1fe6916bb8f19b6e",
   "outputs": [],
   "execution_count": 4
  },
  {
   "metadata": {},
   "cell_type": "markdown",
   "source": "Preprocess the Data",
   "id": "16ce4530d3165e09"
  },
  {
   "metadata": {
    "ExecuteTime": {
     "end_time": "2025-03-02T21:02:20.860915Z",
     "start_time": "2025-03-02T21:02:20.848841Z"
    }
   },
   "cell_type": "code",
   "source": [
    "df = pd.DataFrame(labels)\n",
    "df = pd.get_dummies(df)"
   ],
   "id": "8a75d6aa12269f98",
   "outputs": [],
   "execution_count": 5
  },
  {
   "metadata": {
    "ExecuteTime": {
     "end_time": "2025-03-02T21:02:21.206755Z",
     "start_time": "2025-03-02T21:02:21.172790Z"
    }
   },
   "cell_type": "code",
   "source": [
    "x_data = np.array(images).reshape(-1, 1, 64, 64)\n",
    "y_data = df.values"
   ],
   "id": "d0c66ae7b4df5e5f",
   "outputs": [],
   "execution_count": 6
  },
  {
   "metadata": {
    "ExecuteTime": {
     "end_time": "2025-03-02T21:02:21.768330Z",
     "start_time": "2025-03-02T21:02:21.737005Z"
    }
   },
   "cell_type": "code",
   "source": "x_train, x_test, y_train, y_test = train_test_split(x_data, y_data, test_size=0.2)",
   "id": "16e1252605baad73",
   "outputs": [],
   "execution_count": 7
  },
  {
   "metadata": {},
   "cell_type": "markdown",
   "source": "Create the Model",
   "id": "d25359b71ada240d"
  },
  {
   "metadata": {
    "ExecuteTime": {
     "end_time": "2025-03-02T21:04:50.687777Z",
     "start_time": "2025-03-02T21:04:50.666927Z"
    }
   },
   "cell_type": "code",
   "source": [
    "loss_function = CrossEntropyLossFunction()\n",
    "\n",
    "network_layers = [\n",
    "    Convolution(input_shape=(1, 64, 64), output_depth=16, kernel_size=3),\n",
    "    ReLU(),\n",
    "    MaxPooling(pool_size=2, stride=2),\n",
    "\n",
    "    Convolution(input_shape=(16, 31, 31), output_depth=32, kernel_size=3),\n",
    "    ReLU(),\n",
    "    MaxPooling(pool_size=2, stride=2),\n",
    "\n",
    "    Convolution(input_shape=(32, 14, 14), output_depth=64, kernel_size=3),\n",
    "    ReLU(),\n",
    "    MaxPooling(pool_size=2, stride=2),\n",
    "\n",
    "    Flatten(),\n",
    "\n",
    "    FullyConnected(input_size=64 * 6 * 6, output_size=256),\n",
    "    ReLU(),\n",
    "\n",
    "    FullyConnected(input_size=256, output_size=y_data.shape[1]),\n",
    "    Softmax()\n",
    "]"
   ],
   "id": "92a5827046242b83",
   "outputs": [],
   "execution_count": 13
  },
  {
   "metadata": {
    "ExecuteTime": {
     "end_time": "2025-03-02T21:04:51.460436Z",
     "start_time": "2025-03-02T21:04:51.458197Z"
    }
   },
   "cell_type": "code",
   "source": "ASL_model = Network(network_layers, loss_function)",
   "id": "2e012277f1587d28",
   "outputs": [],
   "execution_count": 14
  },
  {
   "metadata": {
    "jupyter": {
     "is_executing": true
    },
    "ExecuteTime": {
     "start_time": "2025-03-02T21:04:52.027815Z"
    }
   },
   "cell_type": "code",
   "source": "ASL_model.train(x_train, y_train, 20, 0.001)",
   "id": "a7b31dbda54b4c1e",
   "outputs": [],
   "execution_count": null
  },
  {
   "metadata": {},
   "cell_type": "markdown",
   "source": "Save the Model",
   "id": "75e49ce80b1aaa90"
  },
  {
   "metadata": {},
   "cell_type": "code",
   "outputs": [],
   "execution_count": null,
   "source": [
    "import pickle\n",
    "\n",
    "filename = 'ASL_trained_model.pkl'\n",
    "with open(filename, 'wb') as file:\n",
    "    pickle.dump(ASL_model, file)"
   ],
   "id": "4fa528d71b4c2fd1"
  }
 ],
 "metadata": {
  "kernelspec": {
   "display_name": "Python 3",
   "language": "python",
   "name": "python3"
  },
  "language_info": {
   "codemirror_mode": {
    "name": "ipython",
    "version": 2
   },
   "file_extension": ".py",
   "mimetype": "text/x-python",
   "name": "python",
   "nbconvert_exporter": "python",
   "pygments_lexer": "ipython2",
   "version": "2.7.6"
  }
 },
 "nbformat": 4,
 "nbformat_minor": 5
}
