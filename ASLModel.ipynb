{
 "cells": [
  {
   "metadata": {},
   "cell_type": "markdown",
   "source": "Imports",
   "id": "48e0d4027712622d"
  },
  {
   "metadata": {},
   "cell_type": "code",
   "outputs": [],
   "execution_count": 9,
   "source": [
    "import numpy as np\n",
    "import os\n",
    "import cv2\n",
    "import pandas as pd\n",
    "import matplotlib.pyplot as plt\n",
    "from sklearn.model_selection import train_test_split"
   ],
   "id": "initial_id"
  },
  {
   "metadata": {
    "ExecuteTime": {
     "end_time": "2025-03-02T16:21:31.440304Z",
     "start_time": "2025-03-02T16:21:31.424551Z"
    }
   },
   "cell_type": "code",
   "source": [
    "from Network import Network\n",
    "from MaxPooling import MaxPooling\n",
    "from FullyConnected import FullyConnected\n",
    "from Convolution import Convolution\n",
    "from CrossEntropyLossFunction import CrossEntropyLossFunction\n",
    "from Sigmoid import Sigmoid\n",
    "from Softmax import Softmax\n",
    "from Tanh import Tanh\n",
    "from Flatten import Flatten\n",
    "from ReLU import ReLU"
   ],
   "id": "be0ea784f803fef7",
   "outputs": [],
   "execution_count": 10
  },
  {
   "metadata": {},
   "cell_type": "markdown",
   "source": "Extract Data",
   "id": "e5f039b86c93814b"
  },
  {
   "metadata": {},
   "cell_type": "code",
   "outputs": [],
   "execution_count": null,
   "source": [
    "images = []\n",
    "labels = []\n",
    "\n",
    "for folder in os.listdir('asl_dataset'):\n",
    "    folder_dir = os.path.join('asl_dataset', folder)\n",
    "\n",
    "    for image in os.listdir(folder_dir):\n",
    "        img_path = os.path.join(folder_dir, image)\n",
    "\n",
    "        data_sample = cv2.imread(img_path, cv2.IMREAD_GRAYSCALE)\n",
    "        data_sample = cv2.resize(data_sample, (64, 64))\n",
    "        data_sample = data_sample / 255.0\n",
    "\n",
    "        images.append(data_sample)\n",
    "        labels.append(folder)"
   ],
   "id": "1fe6916bb8f19b6e"
  },
  {
   "metadata": {},
   "cell_type": "markdown",
   "source": "Preprocess the Data",
   "id": "16ce4530d3165e09"
  },
  {
   "metadata": {},
   "cell_type": "code",
   "outputs": [],
   "execution_count": null,
   "source": [
    "df = pd.DataFrame(labels)\n",
    "df = pd.get_dummies(df)"
   ],
   "id": "8a75d6aa12269f98"
  },
  {
   "metadata": {},
   "cell_type": "code",
   "outputs": [],
   "execution_count": null,
   "source": [
    "x_data = np.array(images).reshape(-1, 1, 64, 64)\n",
    "y_data = df.values"
   ],
   "id": "d0c66ae7b4df5e5f"
  },
  {
   "metadata": {},
   "cell_type": "code",
   "outputs": [],
   "execution_count": null,
   "source": "x_train, x_test, y_train, y_test = train_test_split(x_data, y_data, test_size=0.2)",
   "id": "16e1252605baad73"
  },
  {
   "metadata": {},
   "cell_type": "markdown",
   "source": "Create the Model",
   "id": "d25359b71ada240d"
  },
  {
   "metadata": {},
   "cell_type": "code",
   "outputs": [],
   "execution_count": null,
   "source": [
    "loss_function = CrossEntropyLossFunction()\n",
    "\n",
    "network_layers = [\n",
    "    Convolution(input_shape=(1, 28, 28), output_depth = 8, kernel_size = 3),\n",
    "    ReLU(),\n",
    "    MaxPooling(pool_size = 2, stride = 2),\n",
    "\n",
    "    Convolution(input_shape=(8, 13, 13), output_depth = 16, kernel_size = 3),\n",
    "    ReLU(),\n",
    "    MaxPooling(pool_size = 2, stride = 2),\n",
    "\n",
    "    Flatten(),\n",
    "\n",
    "    FullyConnected(input_size = 400, output_size = 128),\n",
    "    ReLU(),\n",
    "\n",
    "    FullyConnected(input_size = 128, output_size = y_data.shape[1]),\n",
    "    Softmax()\n",
    "]"
   ],
   "id": "92a5827046242b83"
  },
  {
   "metadata": {},
   "cell_type": "code",
   "outputs": [],
   "execution_count": null,
   "source": "ASL_model = Network(network_layers, loss_function)",
   "id": "2e012277f1587d28"
  },
  {
   "metadata": {},
   "cell_type": "code",
   "outputs": [],
   "execution_count": null,
   "source": "ASL_model.train(x_train, y_train, 20, 0.001)",
   "id": "a7b31dbda54b4c1e"
  }
 ],
 "metadata": {
  "kernelspec": {
   "display_name": "Python 3",
   "language": "python",
   "name": "python3"
  },
  "language_info": {
   "codemirror_mode": {
    "name": "ipython",
    "version": 2
   },
   "file_extension": ".py",
   "mimetype": "text/x-python",
   "name": "python",
   "nbconvert_exporter": "python",
   "pygments_lexer": "ipython2",
   "version": "2.7.6"
  }
 },
 "nbformat": 4,
 "nbformat_minor": 5
}
