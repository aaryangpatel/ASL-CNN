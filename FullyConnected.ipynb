{
 "cells": [
  {
   "cell_type": "code",
   "id": "initial_id",
   "metadata": {
    "collapsed": true,
    "ExecuteTime": {
     "end_time": "2025-02-23T20:44:59.088764Z",
     "start_time": "2025-02-23T20:44:59.033188Z"
    }
   },
   "source": "import numpy as np",
   "outputs": [],
   "execution_count": 1
  },
  {
   "metadata": {
    "ExecuteTime": {
     "end_time": "2025-02-24T14:00:43.986111Z",
     "start_time": "2025-02-24T14:00:43.965297Z"
    }
   },
   "cell_type": "code",
   "source": [
    "class FullyConnected:\n",
    "    def __init__(self, input_size, output_size):\n",
    "        self.input_size = input_size\n",
    "        self.output_size = output_size\n",
    "        \n",
    "        self.weights = np.random.rand(self.input_size, self.output_size)\n",
    "        self.biases = np.random.rand(self.output_size)\n",
    "        \n",
    "        self.d_weights = None\n",
    "\n",
    "        self.input = None\n",
    "        self.output = None\n",
    "        \n",
    "    def forward(self, input):\n",
    "        self.input = input\n",
    "        self.output += np.dot(self.input, self.weights) + self.biases\n",
    "        return self.output\n",
    "           \n",
    "    def backward(self, output_grad, learning_rate):\n",
    "        weights_gradient = np.dot(output_grad, self.input.T)\n",
    "        input_gradient = np.dot(self.weights.T, output_grad)\n",
    "        \n",
    "        self.weights -= learning_rate * weights_gradient\n",
    "        self.biases -= learning_rate * output_grad\n",
    "\n",
    "        return input_gradient"
   ],
   "id": "fa30befe0055d0b7",
   "outputs": [],
   "execution_count": 3
  }
 ],
 "metadata": {
  "kernelspec": {
   "display_name": "Python 3",
   "language": "python",
   "name": "python3"
  },
  "language_info": {
   "codemirror_mode": {
    "name": "ipython",
    "version": 2
   },
   "file_extension": ".py",
   "mimetype": "text/x-python",
   "name": "python",
   "nbconvert_exporter": "python",
   "pygments_lexer": "ipython2",
   "version": "2.7.6"
  }
 },
 "nbformat": 4,
 "nbformat_minor": 5
}
